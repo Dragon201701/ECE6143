{
 "cells": [
  {
   "cell_type": "markdown",
   "metadata": {},
   "source": [
    "# Demo:  Prostate Cancer Analysis with LASSO and Other Feature Selection Methods\n",
    "\n",
    "In this demo, we illustrate the classic technique of LASSO regularization and other feature selection methdos for model (feature) selection.  You will learn to:\n",
    "* Fit a LASSO model using the `sklearn` package\n",
    "* Determine the regularization level with cross-validation\n",
    "* Draw the coefficient path as a function of the regularization level\n",
    "* Try out other feature selection methods in `sklearn`\n",
    "\n",
    "We use a classic prostate cancer dataset from the paper:\n",
    "\n",
    "> Stamey, Thomas A., et al. \"[Prostate specific antigen in the diagnosis and treatment of adenocarcinoma of the prostate. II. Radical prostatectomy treated patients](http://www.sciencedirect.com/science/article/pii/S002253471741175X).\" The Journal of urology 141.5 (1989): 1076-1083.\n",
    "\n",
    "In the study, the level of [prostate specific antigen](https://en.wikipedia.org/wiki/Prostate-specific_antigen) was measured in 102 men before they had a prostatectomy. Elevated values of the PSA are believed to be associated with the presence of prostate cancer and other disorders. To study this hypothesis, various features of the prostate were measured after the prostatectomy.  Data analysis is then used to understand the relation between the PSA level and prostate features.  The study is old and much more is known about PSA today.  But, the analysis is typical for medical problems and illustrates the basic tools well.\n",
    "\n",
    "The specific analysis presented in this demo taken from the class text: \n",
    "\n",
    "> Friedman, Jerome, Trevor Hastie, and Robert Tibshirani. [Elements of statistical learning](https://www.amazon.com/exec/obidos/ASIN/0387952845/trevorhastie-20), New York: Springer series in statistics, 2001.\n",
    "\n",
    "The text provides an excellent discussion of LASSO and other methods on this dataset.  \n",
    "\n",
    "Special thanks to [Phil Schniter](http://www2.ece.ohio-state.edu/~schniter/) at Ohio State for pointing on error in an earlier version of this demo.\n",
    "\n",
    "First, we load the regular packages."
   ]
  },
  {
   "cell_type": "code",
   "execution_count": 1,
   "metadata": {},
   "outputs": [],
   "source": [
    "import pandas as pd\n",
    "import numpy as np\n",
    "import matplotlib.pyplot as plt\n",
    "%matplotlib inline"
   ]
  },
  {
   "cell_type": "markdown",
   "metadata": {},
   "source": [
    "## Loading the Data\n",
    "\n",
    "Our analysis begins by getting the data from Tibshirani's website.   "
   ]
  },
  {
   "cell_type": "code",
   "execution_count": 2,
   "metadata": {},
   "outputs": [],
   "source": [
    "# Get data\n",
    "url = 'https://web.stanford.edu/~hastie/ElemStatLearn/datasets/prostate.data'\n",
    "df = pd.read_csv(url, sep='\\t', header=0)\n",
    "df = df.drop('Unnamed: 0', axis=1)   # skip the column of indices"
   ]
  },
  {
   "cell_type": "markdown",
   "metadata": {},
   "source": [
    "In this data set, the target variable is `lpsa`, the log of the PSA. The goal is to try  to predict the `lpsa` from various prostate features."
   ]
  },
  {
   "cell_type": "code",
   "execution_count": 3,
   "metadata": {},
   "outputs": [
    {
     "name": "stdout",
     "output_type": "stream",
     "text": [
      "Target variable: lpsa\n",
      "Predictors:     ['lcavol', 'lweight', 'age', 'lbph', 'svi', 'lcp', 'gleason']\n",
      "\n",
      "num samples = 97,  num features = 7\n"
     ]
    }
   ],
   "source": [
    "# Print the names of the target and predictor\n",
    "names = df.columns.tolist()\n",
    "names_x = names[0:7]\n",
    "name_y = names[8]\n",
    "print(\"Target variable: %s\" % name_y)\n",
    "print(\"Predictors:     \"+str(names_x))\n",
    "\n",
    "# Convert the dataframe values to data matrices\n",
    "X0 = np.array(df[names_x])\n",
    "y0 = np.array(df[name_y])\n",
    "\n",
    "# Print the number of samples and features\n",
    "nsamp = X0.shape[0]\n",
    "nfeatures = X0.shape[1]\n",
    "print(\"\")\n",
    "print(\"num samples = %d,  num features = %d\" % (nsamp, nfeatures))"
   ]
  },
  {
   "cell_type": "markdown",
   "metadata": {},
   "source": [
    "When performing any regularized estimate, it is critical to standardize the values.  For this purpose, we use `sklearn` built-in `scale` command."
   ]
  },
  {
   "cell_type": "code",
   "execution_count": 4,
   "metadata": {},
   "outputs": [],
   "source": [
    "import sklearn.preprocessing\n",
    "\n",
    "X = sklearn.preprocessing.scale(X0)\n",
    "y = sklearn.preprocessing.scale(y0)\n"
   ]
  },
  {
   "cell_type": "markdown",
   "metadata": {},
   "source": [
    "## Fit a Linear Model with No Regularization\n",
    "\n",
    "First, we try to fit a multiple linear model with no regularization.  We begin by importing the appropriate package."
   ]
  },
  {
   "cell_type": "code",
   "execution_count": 6,
   "metadata": {},
   "outputs": [],
   "source": [
    "from sklearn import linear_model\n",
    "from sklearn.model_selection import train_test_split"
   ]
  },
  {
   "cell_type": "markdown",
   "metadata": {},
   "source": [
    "We next split the data into training and test -- will use roughly half the samples for each."
   ]
  },
  {
   "cell_type": "code",
   "execution_count": 23,
   "metadata": {},
   "outputs": [
    {
     "name": "stdout",
     "output_type": "stream",
     "text": [
      "num samples train = 48, test = 49\n"
     ]
    }
   ],
   "source": [
    "X_tr, X_ts, y_tr, y_ts = train_test_split(X,y,test_size=0.5,shuffle=True)\n",
    "ntr = X_tr.shape[0]\n",
    "nts = X_ts.shape[0]\n",
    "print(\"num samples train = %d, test = %d\" % (ntr, nts))"
   ]
  },
  {
   "cell_type": "markdown",
   "metadata": {},
   "source": [
    "Fit the model on the training data."
   ]
  },
  {
   "cell_type": "code",
   "execution_count": 24,
   "metadata": {},
   "outputs": [
    {
     "data": {
      "text/plain": [
       "LinearRegression(copy_X=True, fit_intercept=True, n_jobs=None,\n",
       "         normalize=False)"
      ]
     },
     "execution_count": 24,
     "metadata": {},
     "output_type": "execute_result"
    }
   ],
   "source": [
    "regr = linear_model.LinearRegression()\n",
    "regr.fit(X_tr,y_tr)"
   ]
  },
  {
   "cell_type": "markdown",
   "metadata": {},
   "source": [
    "Now, we can measure the normalized RSS on the training data.  "
   ]
  },
  {
   "cell_type": "code",
   "execution_count": 28,
   "metadata": {},
   "outputs": [
    {
     "name": "stdout",
     "output_type": "stream",
     "text": [
      "R^2 training = 0.681356\n"
     ]
    }
   ],
   "source": [
    "# Measure normalized RSS\n",
    "y_tr_pred = regr.predict(X_tr)\n",
    "rsq_tr = 1-np.mean((y_tr_pred-y_tr)**2)/(np.std(y_tr)**2)\n",
    "print(\"R^2 training = %f\" % rsq_tr)"
   ]
  },
  {
   "cell_type": "markdown",
   "metadata": {},
   "source": [
    "Ths `R^2` value is about `0.68`.  However, we need to evaluate the model on the test data.  "
   ]
  },
  {
   "cell_type": "code",
   "execution_count": 29,
   "metadata": {},
   "outputs": [
    {
     "name": "stdout",
     "output_type": "stream",
     "text": [
      "Normalized test RSS = 0.419799\n",
      "Normalized test R^2 = 0.580201\n"
     ]
    }
   ],
   "source": [
    "y_ts_pred = regr.predict(X_ts)\n",
    "rss_ts = np.mean((y_ts_pred-y_ts)**2)/(np.std(y_ts)**2)\n",
    "rsq_ts = 1-rss_ts\n",
    "print(\"Normalized test RSS = %f\" % rss_ts)\n",
    "print(\"Normalized test R^2 = %f\" % rsq_ts)"
   ]
  },
  {
   "cell_type": "markdown",
   "metadata": {},
   "source": [
    "We can also plot the actual vs. predicted values.  We see a clear fit."
   ]
  },
  {
   "cell_type": "code",
   "execution_count": 30,
   "metadata": {},
   "outputs": [
    {
     "data": {
      "image/png": "[encoded data removed]",
      "text/plain": [
       "<Figure size 432x288 with 1 Axes>"
      ]
     },
     "metadata": {
      "needs_background": "light"
     },
     "output_type": "display_data"
    }
   ],
   "source": [
    "plt.scatter(y_ts,y_ts_pred)\n",
    "plt.xlabel('Actual lpsa')\n",
    "plt.ylabel('Pred lpsa')\n",
    "ymin = np.min(y_ts)\n",
    "ymax = np.max(y_ts)\n",
    "plt.plot([ymin,ymax], [ymin,ymax], 'r-', linewidth=3)\n",
    "plt.grid()\n",
    "plt.show()"
   ]
  },
  {
   "cell_type": "markdown",
   "metadata": {},
   "source": [
    "We can also plot the coefficients in the regression model.  Remember that all the parameters are normalized so that the coefficients can be compared.  We see that `lcavol` has the highest weight, but there are non-zero weights on all the predictors.  This makes it hard to see if other factors are significant or not. "
   ]
  },
  {
   "cell_type": "code",
   "execution_count": 37,
   "metadata": {},
   "outputs": [
    {
     "name": "stdout",
     "output_type": "stream",
     "text": [
      "    lcavol    0.6457\n",
      "   lweight    0.2466\n",
      "       age   -0.0895\n",
      "      lbph    0.0543\n",
      "       svi    0.1034\n",
      "       lcp   -0.1508\n",
      "   gleason    0.1253\n"
     ]
    },
    {
     "data": {
      "text/plain": [
       "<StemContainer object of 3 artists>"
      ]
     },
     "execution_count": 37,
     "metadata": {},
     "output_type": "execute_result"
    },
    {
     "data": {
      "image/png": "[encoded data removed]",
      "text/plain": [
       "<Figure size 432x288 with 1 Axes>"
      ]
     },
     "metadata": {
      "needs_background": "light"
     },
     "output_type": "display_data"
    }
   ],
   "source": [
    "w = regr.coef_\n",
    "for name, wi in zip(names_x, w):\n",
    "    print('%10s %9.4f' % (name, wi))\n",
    "    \n",
    "plt.stem(w)    "
   ]
  },
  {
   "cell_type": "markdown",
   "metadata": {},
   "source": [
    "## LASSO:  Linear Model with L1 Regularization\n",
    "\n",
    "The failure of the linear model motivates us to use regularization to try to select only the \"useful\" features.  We will demonstrate how to use the Lasso technique.  The `sklearn` package has several excellent routines for this.  We first import the `model_selection` sub-package for the k-fold cross validation."
   ]
  },
  {
   "cell_type": "code",
   "execution_count": 38,
   "metadata": {},
   "outputs": [],
   "source": [
    "import  sklearn.model_selection "
   ]
  },
  {
   "cell_type": "markdown",
   "metadata": {},
   "source": [
    "When considering the LASSO, we consider a set of models with different levels of regularization `alpha`.  Higher values of `alpha` imply greater regularization.  Similar to the [polynomial example](./polyfit.ipynb), we use k-fold cross validation to determine the appropriate `alpha`.  That is, for each `alpha` value, we evaluate the test error on different training / tests spilt.   For larger data sets, this exhaustive search is time-consuming.  But, it should finish very fast for this small set. "
   ]
  },
  {
   "cell_type": "code",
   "execution_count": 39,
   "metadata": {},
   "outputs": [],
   "source": [
    "# Create a k-fold cross validation object\n",
    "nfold = 10\n",
    "kf = sklearn.model_selection.KFold(n_splits=nfold,shuffle=True)\n",
    "\n",
    "# Regularization values to test\n",
    "nalpha = 100\n",
    "alphas = np.logspace(-3,1,nalpha)\n",
    "\n",
    "# MSE for each alpha and fold value\n",
    "mse = np.zeros((nalpha,nfold))\n",
    "for ifold, ind in enumerate(kf.split(X)):\n",
    "        \n",
    "    # Get the training data in the split\n",
    "    Itr,Its = ind\n",
    "    X_tr = X[Itr,:]\n",
    "    y_tr = y[Itr]\n",
    "    X_ts = X[Its,:]\n",
    "    y_ts = y[Its]\n",
    "    \n",
    "    # Compute the lasso path for the split\n",
    "    for ia, a in enumerate(alphas):\n",
    "        \n",
    "        # Create a LASSO model object\n",
    "        model = linear_model.Lasso(alpha=a)\n",
    "        \n",
    "        # Fit the model on the training data\n",
    "        model.fit(X_tr,y_tr)\n",
    "        \n",
    "        # Compute the prediction error on the test data\n",
    "        y_ts_pred = model.predict(X_ts)\n",
    "        mse[ia,ifold] = np.mean((y_ts_pred-y_ts)**2)"
   ]
  },
  {
   "cell_type": "markdown",
   "metadata": {},
   "source": [
    "We now plot the test MSE as a function of the regularization parameter."
   ]
  },
  {
   "cell_type": "code",
   "execution_count": 40,
   "metadata": {},
   "outputs": [
    {
     "data": {
      "image/png": "[encoded data removed]",
      "text/plain": [
       "<Figure size 432x288 with 1 Axes>"
      ]
     },
     "metadata": {
      "needs_background": "light"
     },
     "output_type": "display_data"
    }
   ],
   "source": [
    "# Compute the mean and standard deviation over the different folds.\n",
    "mse_mean = np.mean(mse,axis=1)\n",
    "mse_se = np.std(mse,axis=1) / np.sqrt(nfold-1)\n",
    "\n",
    "# Plot the mean MSE and the mean MSE with 1 SE error bars\n",
    "plt.errorbar(np.log10(alphas), mse_mean, yerr=mse_se)\n",
    "plt.xlabel('log10(alpha)')\n",
    "plt.ylabel('Test MSE')\n",
    "plt.grid()\n",
    "plt.show()"
   ]
  },
  {
   "cell_type": "markdown",
   "metadata": {},
   "source": [
    "We find the optimal `alpha`, by the following steps:\n",
    "* Find the `alpha` with the minimum test MSE\n",
    "* Set `mse_tgt = ` minimum MSE + 1 std dev MSE\n",
    "* Find the least complex model (highest `alpha`) such that `MSE < mse_tgt`"
   ]
  },
  {
   "cell_type": "code",
   "execution_count": 46,
   "metadata": {},
   "outputs": [
    {
     "name": "stdout",
     "output_type": "stream",
     "text": [
      "Optimal alpha = 0.166810\n"
     ]
    },
    {
     "data": {
      "image/png": "[encoded data removed]",
      "text/plain": [
       "<Figure size 432x288 with 1 Axes>"
      ]
     },
     "metadata": {
      "needs_background": "light"
     },
     "output_type": "display_data"
    }
   ],
   "source": [
    "# Find the minimum MSE and MSE target\n",
    "imin = np.argmin(mse_mean)\n",
    "mse_tgt = mse_mean[imin] + mse_se[imin]\n",
    "alpha_min = alphas[imin]\n",
    "\n",
    "# Find the least complex model with mse_mean < mse_tgt\n",
    "I = np.where(mse_mean < mse_tgt)[0]\n",
    "iopt = I[-1]\n",
    "alpha_opt = alphas[iopt]\n",
    "print(\"Optimal alpha = %f\" % alpha_opt)\n",
    "\n",
    "# Plot the mean MSE and the mean MSE + 1 SE errorbars \n",
    "plt.errorbar(np.log10(alphas), mse_mean, yerr=mse_se)\n",
    "\n",
    "# Plot the MSE target\n",
    "amin_log = np.log10(alpha_min)\n",
    "aopt_log = np.log10(alpha_opt)\n",
    "plt.plot([amin_log,aopt_log], [mse_tgt,mse_tgt], 'rs--')\n",
    "\n",
    "# Plot the optimal alpha line\n",
    "plt.plot([aopt_log,aopt_log], [0.35,mse_mean[iopt]], 'ro--')\n",
    "\n",
    "plt.legend(['MSE', 'MSE target','alpha opt'],loc='upper left')\n",
    "plt.xlabel('log10(alpha)')\n",
    "plt.ylabel('Test MSE')\n",
    "plt.ylim([0.35,1.6])\n",
    "plt.grid()\n",
    "plt.show()\n"
   ]
  },
  {
   "cell_type": "markdown",
   "metadata": {
    "collapsed": true
   },
   "source": [
    "Finally, we recompute the coefficients using all the training data at the correct alpha.  We see that the model selects three non-zero cofficients:  `lcavol`, `lweight` and `svi` (description of the features can be found in  https://rafalab.github.io/pages/649/prostate.html).  These features are presumably the most relevant in determining the PSA level.  Interestingly, the first feature -- `lcavol` -- is the log of the cancer volume suggesting that the cancer volume does indeed influence the PSA level."
   ]
  },
  {
   "cell_type": "code",
   "execution_count": 47,
   "metadata": {},
   "outputs": [
    {
     "name": "stdout",
     "output_type": "stream",
     "text": [
      "  lcavol 0.464526\n",
      " lweight 0.115832\n",
      "     age 0.000000\n",
      "    lbph 0.000000\n",
      "     svi 0.131102\n",
      "     lcp 0.000000\n",
      " gleason 0.000000\n"
     ]
    }
   ],
   "source": [
    "model.alpha = alpha_opt\n",
    "model.fit(X,y)\n",
    "\n",
    "# Print the coefficients\n",
    "for i, c in enumerate(model.coef_):\n",
    "    print(\"%8s %f\" % (names_x[i], c))"
   ]
  },
  {
   "cell_type": "markdown",
   "metadata": {},
   "source": [
    "Using the three chosen features, we now use linear regression method directly with cross validation to evaluate the test error and  to determine the mean regression coefficients."
   ]
  },
  {
   "cell_type": "code",
   "execution_count": 51,
   "metadata": {},
   "outputs": [
    {
     "name": "stdout",
     "output_type": "stream",
     "text": [
      "mse_mean=0.539487 mse SE=0.106768\n",
      "[0.53669232 0.2453695  0.23853759]\n"
     ]
    }
   ],
   "source": [
    "# Find coefficients greater than a small threshold\n",
    "Isel = np.where(np.abs(model.coef_) > 1e-3)[0]\n",
    "\n",
    "\n",
    "# Select those features\n",
    "X1=X[:,Isel]\n",
    "nfea1 = len(Isel)\n",
    "\n",
    "# Run 10-fold validation with reduced feature matrix\n",
    "nfold = 10\n",
    "kf = sklearn.model_selection.KFold(n_splits=nfold,shuffle=True)\n",
    "\n",
    "# MSE for each alpha and fold value\n",
    "RSS_ts = np.zeros((nfold,1))\n",
    "coef=np.zeros((nfold,nfea1))\n",
    "for ifold, ind in enumerate(kf.split(X1)):\n",
    "    \n",
    "    \n",
    "    # Get the training data in the split\n",
    "    Itr,Its = ind\n",
    "    X_tr = X1[Itr,:]\n",
    "    y_tr = y[Itr]\n",
    "    X_ts = X1[Its,:]\n",
    "    y_ts = y[Its]\n",
    "    \n",
    "    regr.fit(X_tr,y_tr)\n",
    "    y_ts_pred = regr.predict(X_ts)\n",
    "    RSS_ts[ifold] = np.mean((y_ts_pred-y_ts)**2)/(np.std(y_ts)**2)\n",
    "    coef[ifold]=regr.coef_\n",
    "            \n",
    "mse_mean = np.mean(RSS_ts,axis=0)\n",
    "mse_se = np.std(RSS_ts,axis=0) / np.sqrt(nfold-1)\n",
    "coef_mean=np.mean(coef,axis=0)\n",
    "print(\"mse_mean=%f mse SE=%f\" % (mse_mean, mse_se))\n",
    "print(coef_mean)\n"
   ]
  },
  {
   "cell_type": "markdown",
   "metadata": {},
   "source": [
    "## LASSO path\n",
    "\n",
    "To further illustrate the effect of regularization, we conclude by drawing the *LASSO path*.  This is simply a plot of the coefficients as a function of the regularization `alpha`.  We do not need to do this for the analysis, but the path demonstrates the effect of regularization well. \n"
   ]
  },
  {
   "cell_type": "code",
   "execution_count": 52,
   "metadata": {},
   "outputs": [
    {
     "data": {
      "image/png": "[encoded data removed]",
      "text/plain": [
       "<Figure size 432x288 with 1 Axes>"
      ]
     },
     "metadata": {
      "needs_background": "light"
     },
     "output_type": "display_data"
    }
   ],
   "source": [
    "alphas1, coeffs, _ = sklearn.linear_model.lasso_path(X, y, alphas=alphas)\n",
    "\n",
    "# Plot the paths of the coefficients\n",
    "plt.semilogx(alphas1,coeffs.T)\n",
    "plt.grid()\n",
    "plt.legend(names_x, loc='upper right')\n",
    "\n",
    "\n",
    "# Plot a line on the optimal alpha\n",
    "plt.semilogx([alpha_opt,alpha_opt], [-0.2,0.6], '--')\n",
    "plt.ylim([-0.2,0.6])\n",
    "plt.xlabel('alpha')\n",
    "plt.ylabel('coeff')\n",
    "plt.show()\n",
    "\n"
   ]
  },
  {
   "cell_type": "code",
   "execution_count": null,
   "metadata": {
    "collapsed": true
   },
   "outputs": [],
   "source": []
  },
  {
   "cell_type": "markdown",
   "metadata": {},
   "source": [
    "# Feature ranking methods\n",
    "\n",
    "## Correlation, F-test and Mutual Information (MI)\n",
    "\n",
    "Now we try feature ranking based on correlation coefficient, F-test, and mutual information. We write our own function for computing correlation coefficient between a feature and the target. We use the built-in function in sklearn feature_selection package to compute F score and MI.  f_regression evaluates the F-test (F-test = (r^2/(1-r^2)*(nsamples-2), where r is the correlation coefficient). mutual_info_regression evaluates the mutual information between each feature and the target. "
   ]
  },
  {
   "cell_type": "code",
   "execution_count": 18,
   "metadata": {
    "collapsed": true
   },
   "outputs": [],
   "source": [
    "from sklearn.feature_selection import f_regression, mutual_info_regression"
   ]
  },
  {
   "cell_type": "code",
   "execution_count": 19,
   "metadata": {},
   "outputs": [
    {
     "data": {
      "image/png": "[encoded data removed]",
      "text/plain": [
       "<matplotlib.figure.Figure at 0x1a1b4dbef0>"
      ]
     },
     "metadata": {},
     "output_type": "display_data"
    }
   ],
   "source": [
    "\n",
    "f_test, _ = f_regression(X, y)\n",
    "f_test /= np.max(f_test)\n",
    "\n",
    "mi = mutual_info_regression(X, y)\n",
    "mi /= np.max(mi)\n",
    "\n",
    "corr=np.zeros((nfeatures,1))\n",
    "for i in range(7):\n",
    "    corr[i]=np.mean(X[:,i]*y)\n",
    "    # note that because X and y have both been normalized, we do not need to normalize the correlation by their STD \n",
    "    \n",
    "corr=corr/np.max(corr)\n",
    "    \n",
    "plt.figure(figsize=(15, 5))\n",
    "for i in range(7):\n",
    "    plt.subplot(1, 7, i + 1)\n",
    "    plt.scatter(X[:, i], y, edgecolor='black', s=20)\n",
    "    plt.xlabel(\"$x_{}$\".format(i + 1), fontsize=14)\n",
    "    if i == 0:\n",
    "        plt.ylabel(\"$y$\", fontsize=14)\n",
    "    plt.title(\"%4.2f, %4.2f, %4.2f\" % (corr[i], f_test[i], mi[i]),\n",
    "             fontsize=10)\n",
    "plt.show()"
   ]
  },
  {
   "cell_type": "markdown",
   "metadata": {},
   "source": [
    "From above figure, using ranking based on either correlation, F-test, or mutual information, the top three features are x1, x5, and x6. We will now try to use these three features to train a multi linear regressor and compare with the results obtained with LASSO using x1, x2, and x5. We will use cross validation to estimate the test error"
   ]
  },
  {
   "cell_type": "code",
   "execution_count": 20,
   "metadata": {
    "collapsed": true
   },
   "outputs": [],
   "source": [
    "X1=np.zeros((nsamp, 3))\n",
    "X1[:,0]=X[:,0]\n",
    "X1[:,1]=X[:,4]\n",
    "X1[:,2]=X[:,5]"
   ]
  },
  {
   "cell_type": "code",
   "execution_count": 21,
   "metadata": {},
   "outputs": [
    {
     "data": {
      "text/plain": [
       "LinearRegression(copy_X=True, fit_intercept=True, n_jobs=1, normalize=False)"
      ]
     },
     "execution_count": 21,
     "metadata": {},
     "output_type": "execute_result"
    }
   ],
   "source": [
    "regr = linear_model.LinearRegression()\n",
    "regr.fit(X1,y)"
   ]
  },
  {
   "cell_type": "code",
   "execution_count": 22,
   "metadata": {},
   "outputs": [
    {
     "name": "stdout",
     "output_type": "stream",
     "text": [
      "mse_mean=0.532789 mse_std=0.045213\n",
      "[ 0.62701377  0.26342577 -0.05191608]\n"
     ]
    }
   ],
   "source": [
    "nfold = 10\n",
    "nfea1 = 3;\n",
    "kf = sklearn.model_selection.KFold(n_splits=nfold,shuffle=True)\n",
    "\n",
    "# MSE for each alpha and fold value\n",
    "RSS_ts = np.zeros((nfold,1))\n",
    "coef=np.zeros((nfold,nfea1))\n",
    "for ifold, ind in enumerate(kf.split(X1)):\n",
    "    \n",
    "    \n",
    "    # Get the training data in the split\n",
    "    Itr,Its = ind\n",
    "    X_tr = X1[Itr,:]\n",
    "    y_tr = y[Itr]\n",
    "    X_ts = X1[Its,:]\n",
    "    y_ts = y[Its]\n",
    "    \n",
    "    regr.fit(X_tr,y_tr)\n",
    "    y_ts_pred = regr.predict(X_ts)\n",
    "    RSS_ts[ifold] = np.mean((y_ts_pred-y_ts)**2)/(np.std(y_ts)**2)\n",
    "    coef[ifold]=regr.coef_\n",
    "            \n",
    "mse_mean = np.mean(RSS_ts,axis=0)\n",
    "mse_std = np.std(RSS_ts,axis=0) / np.sqrt(nfold-1)\n",
    "coef_mean=np.mean(coef,axis=0)\n",
    "print(\"mse_mean=%f mse_std=%f\" % (mse_mean, mse_std))\n",
    "print(coef_mean)"
   ]
  },
  {
   "cell_type": "markdown",
   "metadata": {},
   "source": [
    "We see that in this case, features found by LASSO lead to smaller test error. Note that the mse_mean derived in each case depends on the random shuffling used in generating the multiple folds, so each time the values may be different. Some times, using the features determined by the ranking method could lead to smaller mse. \n"
   ]
  },
  {
   "cell_type": "markdown",
   "metadata": {},
   "source": [
    "##  Recursive feature elimination (RFE)\n",
    "RFE is a method to select the features by recursively considering smaller and smaller sets of features. It first fits the multi-linear regression with all the features and evaluates the importance of each feature using the `coef_` attribute. Then, the least important features are pruned from current set of features.That procedure is recursively repeated on the pruned set until the desired number of features to select is eventually reached. See http://scikit-learn.org/stable/modules/feature_selection.html#recursive-feature-elimination for details.\n"
   ]
  },
  {
   "cell_type": "code",
   "execution_count": 23,
   "metadata": {
    "collapsed": true
   },
   "outputs": [],
   "source": [
    "from sklearn.feature_selection import RFE"
   ]
  },
  {
   "cell_type": "code",
   "execution_count": 24,
   "metadata": {},
   "outputs": [
    {
     "name": "stdout",
     "output_type": "stream",
     "text": [
      "[1 2 5 4 3 7 6]\n"
     ]
    }
   ],
   "source": [
    "regr = linear_model.LinearRegression()\n",
    "rfe = RFE(estimator=regr, n_features_to_select=1, step=1)\n",
    "rfe.fit(X,y)\n",
    "ranking = rfe.ranking_\n",
    "print(ranking)"
   ]
  },
  {
   "cell_type": "markdown",
   "metadata": {},
   "source": [
    "We see that the top 3 features are x1, x2, and x5 which is the same as the lasso. "
   ]
  },
  {
   "cell_type": "code",
   "execution_count": null,
   "metadata": {
    "collapsed": true
   },
   "outputs": [],
   "source": []
  }
 ],
 "metadata": {
  "anaconda-cloud": {},
  "kernelspec": {
   "display_name": "Python 3",
   "language": "python",
   "name": "python3"
  },
  "language_info": {
   "codemirror_mode": {
    "name": "ipython",
    "version": 3
   },
   "file_extension": ".py",
   "mimetype": "text/x-python",
   "name": "python",
   "nbconvert_exporter": "python",
   "pygments_lexer": "ipython3",
   "version": "3.7.6"
  }
 },
 "nbformat": 4,
 "nbformat_minor": 1
}
