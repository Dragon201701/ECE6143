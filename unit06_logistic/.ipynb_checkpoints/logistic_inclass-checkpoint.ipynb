{
 "cells": [
  {
   "cell_type": "markdown",
   "metadata": {},
   "source": [
    "# Logistic Regression In-Class Exercises\n",
    "\n",
    "Do these exercises along with the videos."
   ]
  },
  {
   "cell_type": "code",
   "execution_count": 2,
   "metadata": {},
   "outputs": [],
   "source": [
    "import numpy as np\n",
    "import matplotlib.pyplot as plt\n",
    "import pandas as pd"
   ]
  },
  {
   "cell_type": "markdown",
   "metadata": {},
   "source": [
    "## Question 1.  Linear Classifier\n",
    "\n",
    "Given the data below, use the `plt.scatter()` function to plot the data points with different colors for the classes."
   ]
  },
  {
   "cell_type": "code",
   "execution_count": 3,
   "metadata": {},
   "outputs": [],
   "source": [
    "X = np.array([[1,1], [1,3], [2,2], [2,3], [3,2], [4,1]])\n",
    "y = np.array([0,0,1,1,0,1], dtype=np.int)\n",
    "\n",
    "# TODO"
   ]
  },
  {
   "cell_type": "markdown",
   "metadata": {},
   "source": [
    "You should see that the data is not linearly separable.\n",
    "Find a linear classifier that makes a minimal number of errors on the training data.\n",
    "\n",
    "Write a function `predict()` function for the classifer and get the predicted labels with the command:\n",
    "\n",
    "    yhat = predict(X)\n",
    "\n",
    "Print `yhat` and `y`.  How many errors does your classifier make?"
   ]
  },
  {
   "cell_type": "code",
   "execution_count": 5,
   "metadata": {},
   "outputs": [],
   "source": [
    "def predict(X):\n",
    "    # TODO\n",
    "    #   yhat = ...\n",
    "    return yhat\n",
    "\n",
    "# TODO\n",
    "#   yhat = predict(X)\n",
    "#   ..."
   ]
  },
  {
   "cell_type": "markdown",
   "metadata": {},
   "source": [
    "# Question 2:   Logistic Model\n",
    "\n",
    "Consider the model for the passing a test:\n",
    "\n",
    "    P(pass test) = 1/(1+exp(-z)),  z =  w0 + w1*hrs_alone + w2*hrs_tutor\n",
    "    \n",
    "where `hrs_alone` is the number of hours studied alone and `hrs_tutor` is the number of hours with a tutor.\n",
    "Given the values below find `w0` for the probability = 0.6.\n"
   ]
  },
  {
   "cell_type": "code",
   "execution_count": 6,
   "metadata": {},
   "outputs": [],
   "source": [
    "hrs_alone = 4\n",
    "hrs_tutor = 1\n",
    "w1 = 0.2\n",
    "w2 = 0.5\n",
    "prob = 0.6\n",
    "\n",
    "# TODO\n",
    "#   w0 = ..."
   ]
  },
  {
   "cell_type": "markdown",
   "metadata": {},
   "source": [
    "Given the values above, plot the probability of passing as a function of `hrs_tutor` in the range of 0 to 10 hours."
   ]
  },
  {
   "cell_type": "code",
   "execution_count": 7,
   "metadata": {},
   "outputs": [],
   "source": [
    "# TODO"
   ]
  },
  {
   "cell_type": "markdown",
   "metadata": {},
   "source": [
    "## Question 3.  Calculating and Plotting the Binary Cross Entropy Loss\n",
    "\n",
    "You are given the scalar data `x` and `y` with binary class labels below."
   ]
  },
  {
   "cell_type": "code",
   "execution_count": 45,
   "metadata": {},
   "outputs": [],
   "source": [
    "x = np.array([-1,1,3,4,5])\n",
    "y = np.array([0,0,1,0,1])"
   ]
  },
  {
   "cell_type": "markdown",
   "metadata": {},
   "source": [
    "Consider a linear classifier of the form:\n",
    "\n",
    "    z = w[0] + w[1]*x\n",
    "    yhat = 1 if z > 0 and 0 if z < 0\n",
    "    \n",
    "Find `w` that makes at most one error on the training data. Call this selection `w_manual` since you have manually chosen it."
   ]
  },
  {
   "cell_type": "code",
   "execution_count": 8,
   "metadata": {},
   "outputs": [],
   "source": [
    "# TODO\n",
    "#   w_manual = ..."
   ]
  },
  {
   "cell_type": "markdown",
   "metadata": {},
   "source": [
    "Now consider a logistic model,\n",
    "\n",
    "    z = w[0] + w[1]*x\n",
    "    p(y=1|x) = 1 / (1 + exp(-z))\n",
    "    \n",
    "Complete the function below that computes the binary cross entropy for a given vector `w` and training data `x,y`. Use the function to compute the BCE loss for the `w_manual`. "
   ]
  },
  {
   "cell_type": "code",
   "execution_count": 9,
   "metadata": {},
   "outputs": [],
   "source": [
    "def bce_loss(x,y,w):\n",
    "    # TODO\n",
    "    # J = BCE loss\n",
    "    return J\n",
    "\n",
    "# Print the loss for `w_manual`"
   ]
  },
  {
   "cell_type": "markdown",
   "metadata": {},
   "source": [
    "Now consider a set of `w = [w0, 0.5]`.  \n",
    "* Plot the BCE loss over 100 values `w0` from -2.5 to 0  \n",
    "* What value of `w0`gives the minimum BCE loss?   Call this `w0_opt`.\n",
    "* What is the minimum BCE loss?"
   ]
  },
  {
   "cell_type": "code",
   "execution_count": 11,
   "metadata": {},
   "outputs": [],
   "source": [
    "nt = 100\n",
    "w0_test = np.linspace(-2.5,0,nt)\n",
    "w1 = 0.5\n",
    "\n",
    "# TODO\n",
    "#   loss = ...\n",
    "#   w0_opt = ..."
   ]
  },
  {
   "cell_type": "markdown",
   "metadata": {},
   "source": [
    "Suppose you select `w1=0.5`and `w0=w0_opt` from the previous section.  What values `x` is `P(y=1|x) > 0.5`?"
   ]
  },
  {
   "cell_type": "code",
   "execution_count": 12,
   "metadata": {},
   "outputs": [],
   "source": [
    "# TODO.  Describe the set\n",
    "\n",
    "# We have P(y=1|x) > 0.5 <=> z > 0  <=> w0 + w1*x > 0 <=> x > t = -w0/w1"
   ]
  },
  {
   "cell_type": "markdown",
   "metadata": {},
   "source": [
    "## Question 4.  Heart Attack Fit\n",
    "\n",
    "In this exercise, we fit heart attack data from the UCI website.  We can load it as follows."
   ]
  },
  {
   "cell_type": "code",
   "execution_count": 57,
   "metadata": {},
   "outputs": [],
   "source": [
    "## Generate synthetic data\n",
    "names = ['age', 'sex', 'cp', 'trestbps', 'chol', 'fbs',\n",
    "         'restecg', 'thalach', 'exang', 'oldpeak', 'slope', 'ca', 'thal', 'num']\n",
    "url = 'https://archive.ics.uci.edu/ml/machine-learning-databases/heart-disease/processed.cleveland.data'\n",
    "df = pd.read_csv(url, na_values='?',header=None, names=names)\n",
    "df = df.dropna()"
   ]
  },
  {
   "cell_type": "markdown",
   "metadata": {},
   "source": [
    "Print the first few rows of the data frame.\n",
    "Print the number of attributes of number of samples"
   ]
  },
  {
   "cell_type": "code",
   "execution_count": 13,
   "metadata": {},
   "outputs": [],
   "source": [
    "# TODO"
   ]
  },
  {
   "cell_type": "markdown",
   "metadata": {},
   "source": [
    "The target will be `num` which is the number of arterial blockages.  Get the target vector `y` from the `df[num]` column.  To make this a binary classification problem, let `y[i] == 1` whenever the number is greater than 0.  Otherwise, `y[i] == 0`.  You will have to convert the value to integer."
   ]
  },
  {
   "cell_type": "code",
   "execution_count": 14,
   "metadata": {},
   "outputs": [],
   "source": [
    "# TODO\n",
    "#   y = ..."
   ]
  },
  {
   "cell_type": "markdown",
   "metadata": {},
   "source": [
    "Get the data matrix `X` from all the attributes other than `num`.  "
   ]
  },
  {
   "cell_type": "code",
   "execution_count": 15,
   "metadata": {},
   "outputs": [],
   "source": [
    "# TODO\n",
    "#  X = ..."
   ]
  },
  {
   "cell_type": "markdown",
   "metadata": {},
   "source": [
    "Split the data into traing and test with `test_size=0.25`."
   ]
  },
  {
   "cell_type": "code",
   "execution_count": 16,
   "metadata": {},
   "outputs": [],
   "source": [
    "from sklearn.model_selection import train_test_split\n",
    "\n",
    "# TODO:\n",
    "#   Xtr, Xts, ytr, yts = ..."
   ]
  },
  {
   "cell_type": "markdown",
   "metadata": {},
   "source": [
    "Scale the training and test data with the `StandardScaler`. "
   ]
  },
  {
   "cell_type": "code",
   "execution_count": 62,
   "metadata": {},
   "outputs": [],
   "source": [
    "from sklearn.preprocessing import StandardScaler\n",
    "\n",
    "# TODO\n",
    "#  Xtr1 = ...\n",
    "#  Xts1 = ..."
   ]
  },
  {
   "cell_type": "markdown",
   "metadata": {},
   "source": [
    "Fit the data on the training data set, predict on the test and measure the accuracy."
   ]
  },
  {
   "cell_type": "code",
   "execution_count": 17,
   "metadata": {},
   "outputs": [],
   "source": [
    "# TODO"
   ]
  },
  {
   "cell_type": "markdown",
   "metadata": {},
   "source": [
    "Create a stem plot of the coefficients.  "
   ]
  },
  {
   "cell_type": "code",
   "execution_count": 18,
   "metadata": {},
   "outputs": [],
   "source": [
    "# TODO"
   ]
  },
  {
   "cell_type": "markdown",
   "metadata": {},
   "source": [
    "## Further exercises\n",
    "\n",
    "If you want to try a little more, see if you can use L1 regularization to find the features that are best in explaining heart blockages."
   ]
  },
  {
   "cell_type": "code",
   "execution_count": null,
   "metadata": {},
   "outputs": [],
   "source": []
  },
  {
   "cell_type": "code",
   "execution_count": null,
   "metadata": {},
   "outputs": [],
   "source": []
  },
  {
   "cell_type": "code",
   "execution_count": null,
   "metadata": {},
   "outputs": [],
   "source": []
  },
  {
   "cell_type": "code",
   "execution_count": null,
   "metadata": {},
   "outputs": [],
   "source": []
  },
  {
   "cell_type": "code",
   "execution_count": null,
   "metadata": {},
   "outputs": [],
   "source": []
  }
 ],
 "metadata": {
  "kernelspec": {
   "display_name": "Python 3",
   "language": "python",
   "name": "python3"
  },
  "language_info": {
   "codemirror_mode": {
    "name": "ipython",
    "version": 3
   },
   "file_extension": ".py",
   "mimetype": "text/x-python",
   "name": "python",
   "nbconvert_exporter": "python",
   "pygments_lexer": "ipython3",
   "version": "3.7.6"
  }
 },
 "nbformat": 4,
 "nbformat_minor": 2
}
