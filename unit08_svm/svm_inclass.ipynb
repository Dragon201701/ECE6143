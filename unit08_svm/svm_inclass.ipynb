{
 "cells": [
  {
   "cell_type": "markdown",
   "metadata": {},
   "source": [
    "# SVM In-Class Exercises\n",
    "\n",
    "In-class exercises to accompnay the video lectures."
   ]
  },
  {
   "cell_type": "code",
   "execution_count": 2,
   "metadata": {},
   "outputs": [],
   "source": [
    "import numpy as np\n",
    "import matplotlib.pyplot as plt"
   ]
  },
  {
   "cell_type": "markdown",
   "metadata": {},
   "source": [
    "## Problem 1.  Margin \n",
    "\n",
    "For the points below with binary labels:\n",
    "*  Create a scatter plot of the points with different markers for the two classes\n",
    "*  Find the weight and bias of the classifier that separates the two classes\n",
    "*  Compute the distance to the classifier boundary for the points\n",
    "*  Find the margin"
   ]
  },
  {
   "cell_type": "code",
   "execution_count": 4,
   "metadata": {},
   "outputs": [],
   "source": [
    "X = np.array([[0.5,0.5], [1,0.5],[0.5,1.75], [0.75,2.75], [1.1,2.2], [2,1], [3,1.5]])\n",
    "y = np.array([1,1,1,0,0,0,0])\n",
    "\n",
    "\n",
    "# TODO"
   ]
  },
  {
   "cell_type": "markdown",
   "metadata": {},
   "source": [
    "## Problem 2.  Minimizing the Hinge Loss\n",
    "\n",
    "For the data below, first create a scatter plot of the points with different markers for the two classes.  You should see that the data is not linearly separable.\n",
    "\n",
    "Then, consider a set of classifiers:\n",
    "\n",
    "    yhat = sign(z),   z = w.dot(x)+b\n",
    "   \n",
    "Use the the `w` below, plot the hinge loss as a function of the bias `b` where the hinge loss is: \n",
    "\n",
    "    J  = sum( maximum(0, 1-ypm*z) )\n",
    "\n",
    "Here `ypm=2*y-1` so that it is a value +1 or -1.  Find the `b` that minimizes the hinge loss and plot the boundary of the classifier."
   ]
  },
  {
   "cell_type": "code",
   "execution_count": 5,
   "metadata": {},
   "outputs": [],
   "source": [
    "X = np.array([[0.5,0.5], [1,0.5],[0.5,1.75], [2,2], [0.75,0.75], [0.75,2.75], [1.1,2.2], [2,1], [3,1.5]])\n",
    "y = np.array([1,1,1,1,0,0,0,0,0])\n",
    "\n",
    "w = np.array([1.5, 1])\n",
    "w = w / np.linalg.norm(w)"
   ]
  },
  {
   "cell_type": "code",
   "execution_count": 6,
   "metadata": {},
   "outputs": [],
   "source": [
    "# TODO"
   ]
  },
  {
   "cell_type": "code",
   "execution_count": null,
   "metadata": {},
   "outputs": [],
   "source": []
  },
  {
   "cell_type": "code",
   "execution_count": null,
   "metadata": {},
   "outputs": [],
   "source": []
  }
 ],
 "metadata": {
  "kernelspec": {
   "display_name": "Python 3",
   "language": "python",
   "name": "python3"
  },
  "language_info": {
   "codemirror_mode": {
    "name": "ipython",
    "version": 3
   },
   "file_extension": ".py",
   "mimetype": "text/x-python",
   "name": "python",
   "nbconvert_exporter": "python",
   "pygments_lexer": "ipython3",
   "version": "3.8.3"
  }
 },
 "nbformat": 4,
 "nbformat_minor": 4
}
