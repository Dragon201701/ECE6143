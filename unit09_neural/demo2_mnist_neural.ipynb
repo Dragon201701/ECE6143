{
 "cells": [
  {
   "cell_type": "markdown",
   "metadata": {},
   "source": [
    "# MNIST Classification via a Neural Network\n",
    "\n",
    "In the the [MNIST SVM example](../svm/mnist_svm.ipynb), we introduced the classic MNIST digit classification problem and trained a simple SVM classifier for the model.  In this demo, we will try a simple neural network.  The network we will create will not perform quite as well -- we will obtain an accuracy of only around 97%, while the SVM classifier obtains an accuracy of over 98%.  However, once we understand these simple neural networks, we will be able to build more sophisticated networks that can obtain much better classification rate.  Also, in doing this demo, you will learn several important features of the `keras` package in addition to the concepts shown in the [simple neural network example](./synthetic.ipynb):\n",
    "\n",
    "* How to construct multi-class classifiers using categorical cross entropy.\n",
    "* How to optimize using mini-batches.\n",
    "* How to save and load the model after training.  "
   ]
  },
  {
   "cell_type": "markdown",
   "metadata": {},
   "source": [
    "## Loading the Keras package and the MNIST data\n",
    "\n",
    "We first load the `Tensorflow` package as in the [simple neural network example](./synthetic.ipynb)."
   ]
  },
  {
   "cell_type": "code",
   "execution_count": 1,
   "metadata": {},
   "outputs": [],
   "source": [
    "import tensorflow as tf"
   ]
  },
  {
   "cell_type": "markdown",
   "metadata": {},
   "source": [
    "We also load some other common packages."
   ]
  },
  {
   "cell_type": "code",
   "execution_count": 2,
   "metadata": {},
   "outputs": [],
   "source": [
    "import numpy as np\n",
    "import matplotlib.pyplot as plt"
   ]
  },
  {
   "cell_type": "markdown",
   "metadata": {},
   "source": [
    "Next, we get the MNIST data as in the [MNIST SVM example](../svm/mnist_svm.ipynb).  We reshape and rescale the input `X` from values from -1 to 1 as this works better for the neural network."
   ]
  },
  {
   "cell_type": "code",
   "execution_count": 3,
   "metadata": {},
   "outputs": [],
   "source": [
    "(Xtr,ytr),(Xts,yts) = tf.keras.datasets.mnist.load_data()\n",
    "\n",
    "Xtr = 2*(Xtr/255 - 0.5)\n",
    "ntr, nrow, ncol = Xtr.shape\n",
    "Xtr = Xtr.reshape((ntr,nrow*ncol))\n",
    "\n",
    "Xts = 2*(Xts/255 - 0.5)\n",
    "nts, nrow, ncol = Xts.shape\n",
    "Xts = Xts.reshape((nts,nrow*ncol))"
   ]
  },
  {
   "cell_type": "markdown",
   "metadata": {},
   "source": [
    "We will also use the `plt_digit` function from the [MNIST SVM example](../svm/mnist_svm.ipynb) to display digits."
   ]
  },
  {
   "cell_type": "code",
   "execution_count": 6,
   "metadata": {},
   "outputs": [
    {
     "data": {
      "image/png": "[encoded data removed]",
      "text/plain": [
       "<Figure size 360x720 with 4 Axes>"
      ]
     },
     "metadata": {},
     "output_type": "display_data"
    }
   ],
   "source": [
    "def plt_digit(ax, x):\n",
    "    nrow = 28\n",
    "    ncol = 28\n",
    "    xsq = x.reshape((nrow,ncol))\n",
    "    ax.imshow(xsq,  cmap='Greys_r')\n",
    "    ax.set_xticks([])\n",
    "    ax.set_yticks([])\n",
    "    \n",
    "# Select random digits\n",
    "nplt = 4\n",
    "nsamp = Xtr.shape[0]\n",
    "Iperm = np.random.permutation(nsamp)\n",
    "\n",
    "# Plot the images using the subplot command\n",
    "fig, ax = plt.subplots(1,nplt, figsize=(5,10))\n",
    "for i in range(nplt):\n",
    "    ind = Iperm[i]    \n",
    "    plt_digit(ax[i], Xtr[ind,:])"
   ]
  },
  {
   "cell_type": "markdown",
   "metadata": {},
   "source": [
    "## Creating a Simple Neural Network."
   ]
  },
  {
   "cell_type": "markdown",
   "metadata": {},
   "source": [
    "To create the neural network, we first import the appropriate sub-packages."
   ]
  },
  {
   "cell_type": "code",
   "execution_count": 7,
   "metadata": {},
   "outputs": [],
   "source": [
    "from tensorflow.keras.models import Model, Sequential\n",
    "from tensorflow.keras.layers import Dense, Activation"
   ]
  },
  {
   "cell_type": "markdown",
   "metadata": {},
   "source": [
    "Next, we clear the session.  As in the [simple neural network example](./synthetic.ipynb), this step is not necessary, but it is good practice as it clears any model layers that you have built before.  "
   ]
  },
  {
   "cell_type": "code",
   "execution_count": 8,
   "metadata": {},
   "outputs": [],
   "source": [
    "import tensorflow.keras.backend as K\n",
    "K.clear_session()"
   ]
  },
  {
   "cell_type": "markdown",
   "metadata": {},
   "source": [
    "Now we create a very simple network.  The features are:\n",
    "*  We have one hidden layer with `nh=100` units.  \n",
    "*  One output layer with `nout=10` units, one for each of the 10 possible classes\n",
    "*  The output activation is `softmax`, which is used for multi-class targets"
   ]
  },
  {
   "cell_type": "code",
   "execution_count": 9,
   "metadata": {},
   "outputs": [],
   "source": [
    "nin = Xtr.shape[1]  # dimension of input data\n",
    "nh = 100     # number of hidden units\n",
    "nout = int(np.max(ytr)+1)    # number of outputs = 10 since there are 10 classes\n",
    "model = Sequential()\n",
    "model.add(Dense(units=nh, input_shape=(nin,), activation='sigmoid', name='hidden'))\n",
    "model.add(Dense(units=nout, activation='softmax', name='output'))"
   ]
  },
  {
   "cell_type": "markdown",
   "metadata": {},
   "source": [
    "We print the model summary. "
   ]
  },
  {
   "cell_type": "code",
   "execution_count": 10,
   "metadata": {},
   "outputs": [
    {
     "name": "stdout",
     "output_type": "stream",
     "text": [
      "Model: \"sequential\"\n",
      "_________________________________________________________________\n",
      "Layer (type)                 Output Shape              Param #   \n",
      "=================================================================\n",
      "hidden (Dense)               (None, 100)               78500     \n",
      "_________________________________________________________________\n",
      "output (Dense)               (None, 10)                1010      \n",
      "=================================================================\n",
      "Total params: 79,510\n",
      "Trainable params: 79,510\n",
      "Non-trainable params: 0\n",
      "_________________________________________________________________\n"
     ]
    }
   ],
   "source": [
    "model.summary()"
   ]
  },
  {
   "cell_type": "markdown",
   "metadata": {},
   "source": [
    "## Training the Network\n",
    "\n",
    "As before, to train the network, we have to select an optimizer and a loss function.  Since this is a multi-class classification problem, we select the `sparse_categorial_crossentropy` loss.  We use the `adam` optimizer as before.  You may want to play with the learning rate `lr`.   We also set the `metrics` that we wish to track during the optimization.  In this case, we select `accuracy` on the training set."
   ]
  },
  {
   "cell_type": "code",
   "execution_count": 18,
   "metadata": {},
   "outputs": [],
   "source": [
    "from tensorflow.keras import optimizers\n",
    "\n",
    "opt = optimizers.Adam(lr=0.001) \n",
    "model.compile(optimizer=opt,\n",
    "              loss='sparse_categorical_crossentropy',\n",
    "              metrics=['accuracy'])"
   ]
  },
  {
   "cell_type": "markdown",
   "metadata": {},
   "source": [
    "Keras provides a simple method `fit` to run the optimization.  You simply specify the number of epochs and the batch size, both discussed in class.  In addition, we specify the `validation_data` so that it can print the accuracy on the test data set as it performs the optimization."
   ]
  },
  {
   "cell_type": "code",
   "execution_count": 19,
   "metadata": {},
   "outputs": [
    {
     "name": "stdout",
     "output_type": "stream",
     "text": [
      "Epoch 1/30\n",
      "600/600 [==============================] - 1s 2ms/step - loss: 0.0187 - accuracy: 0.9960 - val_loss: 0.0880 - val_accuracy: 0.9750\n",
      "Epoch 2/30\n",
      "600/600 [==============================] - 1s 1ms/step - loss: 0.0165 - accuracy: 0.9966 - val_loss: 0.0890 - val_accuracy: 0.9747\n",
      "Epoch 3/30\n",
      "600/600 [==============================] - 1s 1ms/step - loss: 0.0160 - accuracy: 0.9968 - val_loss: 0.0904 - val_accuracy: 0.9738\n",
      "Epoch 4/30\n",
      "600/600 [==============================] - 1s 1ms/step - loss: 0.0147 - accuracy: 0.9970 - val_loss: 0.0920 - val_accuracy: 0.9750\n",
      "Epoch 5/30\n",
      "600/600 [==============================] - 1s 1ms/step - loss: 0.0142 - accuracy: 0.9970 - val_loss: 0.0927 - val_accuracy: 0.9741\n",
      "Epoch 6/30\n",
      "600/600 [==============================] - 1s 2ms/step - loss: 0.0151 - accuracy: 0.9969 - val_loss: 0.0844 - val_accuracy: 0.9770\n",
      "Epoch 7/30\n",
      "600/600 [==============================] - 1s 2ms/step - loss: 0.0107 - accuracy: 0.9984 - val_loss: 0.0891 - val_accuracy: 0.9753\n",
      "Epoch 8/30\n",
      "600/600 [==============================] - 1s 1ms/step - loss: 0.0118 - accuracy: 0.9978 - val_loss: 0.0884 - val_accuracy: 0.9751\n",
      "Epoch 9/30\n",
      "600/600 [==============================] - 1s 1ms/step - loss: 0.0094 - accuracy: 0.9987 - val_loss: 0.0892 - val_accuracy: 0.9761\n",
      "Epoch 10/30\n",
      "600/600 [==============================] - 1s 2ms/step - loss: 0.0135 - accuracy: 0.9966 - val_loss: 0.0887 - val_accuracy: 0.9757\n",
      "Epoch 11/30\n",
      "600/600 [==============================] - 1s 1ms/step - loss: 0.0097 - accuracy: 0.9986 - val_loss: 0.1112 - val_accuracy: 0.9689\n",
      "Epoch 12/30\n",
      "600/600 [==============================] - 1s 1ms/step - loss: 0.0093 - accuracy: 0.9984 - val_loss: 0.0937 - val_accuracy: 0.9752\n",
      "Epoch 13/30\n",
      "600/600 [==============================] - 1s 1ms/step - loss: 0.0088 - accuracy: 0.9988 - val_loss: 0.0958 - val_accuracy: 0.9745\n",
      "Epoch 14/30\n",
      "600/600 [==============================] - 1s 1ms/step - loss: 0.0103 - accuracy: 0.9978 - val_loss: 0.1120 - val_accuracy: 0.9709\n",
      "Epoch 15/30\n",
      "600/600 [==============================] - 1s 1ms/step - loss: 0.0088 - accuracy: 0.9984 - val_loss: 0.0986 - val_accuracy: 0.9731\n",
      "Epoch 16/30\n",
      "600/600 [==============================] - 1s 1ms/step - loss: 0.0071 - accuracy: 0.9991 - val_loss: 0.0956 - val_accuracy: 0.9740\n",
      "Epoch 17/30\n",
      "600/600 [==============================] - 1s 1ms/step - loss: 0.0104 - accuracy: 0.9977 - val_loss: 0.1032 - val_accuracy: 0.9716\n",
      "Epoch 18/30\n",
      "600/600 [==============================] - 1s 1ms/step - loss: 0.0103 - accuracy: 0.9979 - val_loss: 0.0933 - val_accuracy: 0.9763\n",
      "Epoch 19/30\n",
      "600/600 [==============================] - 1s 2ms/step - loss: 0.0043 - accuracy: 0.9998 - val_loss: 0.0934 - val_accuracy: 0.9759\n",
      "Epoch 20/30\n",
      "600/600 [==============================] - 1s 2ms/step - loss: 0.0053 - accuracy: 0.9994 - val_loss: 0.1055 - val_accuracy: 0.9727\n",
      "Epoch 21/30\n",
      "600/600 [==============================] - 1s 1ms/step - loss: 0.0135 - accuracy: 0.9965 - val_loss: 0.1012 - val_accuracy: 0.9751\n",
      "Epoch 22/30\n",
      "600/600 [==============================] - 1s 1ms/step - loss: 0.0041 - accuracy: 0.9997 - val_loss: 0.0955 - val_accuracy: 0.9747\n",
      "Epoch 23/30\n",
      "600/600 [==============================] - 1s 1ms/step - loss: 0.0030 - accuracy: 0.9999 - val_loss: 0.0952 - val_accuracy: 0.9752\n",
      "Epoch 24/30\n",
      "600/600 [==============================] - 1s 2ms/step - loss: 0.0050 - accuracy: 0.9992 - val_loss: 0.1421 - val_accuracy: 0.9654\n",
      "Epoch 25/30\n",
      "600/600 [==============================] - 1s 1ms/step - loss: 0.0182 - accuracy: 0.9945 - val_loss: 0.0978 - val_accuracy: 0.9767\n",
      "Epoch 26/30\n",
      "600/600 [==============================] - 1s 1ms/step - loss: 0.0064 - accuracy: 0.9990 - val_loss: 0.0993 - val_accuracy: 0.9745\n",
      "Epoch 27/30\n",
      "600/600 [==============================] - 1s 1ms/step - loss: 0.0036 - accuracy: 0.9998 - val_loss: 0.0943 - val_accuracy: 0.9765\n",
      "Epoch 28/30\n",
      "600/600 [==============================] - 1s 1ms/step - loss: 0.0034 - accuracy: 0.9998 - val_loss: 0.1050 - val_accuracy: 0.9733\n",
      "Epoch 29/30\n",
      "600/600 [==============================] - 1s 1ms/step - loss: 0.0149 - accuracy: 0.9958 - val_loss: 0.0963 - val_accuracy: 0.9767\n",
      "Epoch 30/30\n",
      "600/600 [==============================] - 1s 1ms/step - loss: 0.0026 - accuracy: 1.0000 - val_loss: 0.0965 - val_accuracy: 0.9764\n"
     ]
    }
   ],
   "source": [
    "hist = model.fit(Xtr, ytr, epochs=30, batch_size=100, validation_data=(Xts,yts))"
   ]
  },
  {
   "cell_type": "markdown",
   "metadata": {},
   "source": [
    "After running the 10 epochs, you should obtain a test accuracy of around 96.5%.  If we run it for another a few epochs, we can get slightly higher results.  We can just run the `model.fit` command again, and it will start where it left off. You should get a little more than 97% accuracy. "
   ]
  },
  {
   "cell_type": "markdown",
   "metadata": {},
   "source": [
    "Plot the training accuracy and validation accuracy as a function of epoches.\n",
    "We see that the training accuracy keeps growing to 1, while the validation accuracy saturates to a value around 0.97"
   ]
  },
  {
   "cell_type": "code",
   "execution_count": 20,
   "metadata": {},
   "outputs": [
    {
     "data": {
      "text/plain": [
       "<matplotlib.legend.Legend at 0x1cef6f55280>"
      ]
     },
     "execution_count": 20,
     "metadata": {},
     "output_type": "execute_result"
    },
    {
     "data": {
      "image/png": "[encoded data removed]",
      "text/plain": [
       "<Figure size 432x288 with 1 Axes>"
      ]
     },
     "metadata": {
      "needs_background": "light"
     },
     "output_type": "display_data"
    }
   ],
   "source": [
    "tr_accuracy = hist.history['accuracy']\n",
    "val_accuracy = hist.history['val_accuracy']\n",
    "\n",
    "plt.plot(tr_accuracy)\n",
    "plt.plot(val_accuracy)\n",
    "plt.grid()\n",
    "plt.xlabel('epochs')\n",
    "plt.ylabel('accuarcy')\n",
    "plt.legend(['training accuracy', 'validation accuracy'])"
   ]
  },
  {
   "cell_type": "code",
   "execution_count": 21,
   "metadata": {},
   "outputs": [
    {
     "name": "stdout",
     "output_type": "stream",
     "text": [
      "313/313 [==============================] - 0s 1ms/step - loss: 0.0965 - accuracy: 0.9764\n"
     ]
    }
   ],
   "source": [
    "score, acc = model.evaluate(Xts, yts, verbose=1)"
   ]
  },
  {
   "cell_type": "markdown",
   "metadata": {},
   "source": [
    "## Saving and Loading the model\n",
    "\n",
    "Since the training takes a long time, it is useful to save the results.  See the [keras page](https://keras.io/getting-started/faq/#how-can-i-save-a-keras-model) for many more useful saving and loading features."
   ]
  },
  {
   "cell_type": "code",
   "execution_count": 22,
   "metadata": {},
   "outputs": [],
   "source": [
    "model.save(\"mnist_mod.h5\")"
   ]
  },
  {
   "cell_type": "markdown",
   "metadata": {},
   "source": [
    "We can now reload the model with the `load_model` command."
   ]
  },
  {
   "cell_type": "code",
   "execution_count": 23,
   "metadata": {},
   "outputs": [
    {
     "name": "stdout",
     "output_type": "stream",
     "text": [
      "Model: \"sequential\"\n",
      "_________________________________________________________________\n",
      "Layer (type)                 Output Shape              Param #   \n",
      "=================================================================\n",
      "hidden (Dense)               (None, 100)               78500     \n",
      "_________________________________________________________________\n",
      "output (Dense)               (None, 10)                1010      \n",
      "=================================================================\n",
      "Total params: 79,510\n",
      "Trainable params: 79,510\n",
      "Non-trainable params: 0\n",
      "_________________________________________________________________\n"
     ]
    }
   ],
   "source": [
    "from tensorflow.keras.models import load_model\n",
    "\n",
    "model1 = load_model(\"mnist_mod.h5\")\n",
    "model1.summary()"
   ]
  },
  {
   "cell_type": "markdown",
   "metadata": {},
   "source": [
    "We can test the performance on the test data set.  We can do this in two steps:\n",
    "\n",
    "* We first compute the output logits, `z`, on the test data, `Xts`.  This will produce a matrix with 10 columns with one logits for each class.  \n",
    "* Then we compute the predicted class labels `yhat` by finding the index of the column with the maximum value."
   ]
  },
  {
   "cell_type": "code",
   "execution_count": 47,
   "metadata": {},
   "outputs": [],
   "source": [
    "z = model1.predict(Xts)\n",
    "yhat = np.argmax(z,axis=1)"
   ]
  },
  {
   "cell_type": "markdown",
   "metadata": {},
   "source": [
    "To see what happened, the code below prints the first 5 rows of the logits and the corresponding class estimate."
   ]
  },
  {
   "cell_type": "code",
   "execution_count": 64,
   "metadata": {},
   "outputs": [
    {
     "name": "stdout",
     "output_type": "stream",
     "text": [
      "z[0,:]= [0. 0. 0. 0. 0. 0. 0. 1. 0. 0.] , yhat[0]=  7\n",
      "z[1,:]= [0. 0. 1. 0. 0. 0. 0. 0. 0. 0.] , yhat[1]=  2\n",
      "z[2,:]= [0. 1. 0. 0. 0. 0. 0. 0. 0. 0.] , yhat[2]=  1\n",
      "z[3,:]= [1. 0. 0. 0. 0. 0. 0. 0. 0. 0.] , yhat[3]=  0\n",
      "z[4,:]= [0. 0. 0. 0. 1. 0. 0. 0. 0. 0.] , yhat[4]=  4\n"
     ]
    }
   ],
   "source": [
    "mat = np.column_stack((z,yhat))\n",
    "with np.printoptions(precision=3, suppress=True):\n",
    "    for i in range(5):\n",
    "        print('z[%d,:]='%i, z[i,:], ', yhat[%d]= '%i, yhat[i])"
   ]
  },
  {
   "cell_type": "code",
   "execution_count": 62,
   "metadata": {},
   "outputs": [
    {
     "name": "stdout",
     "output_type": "stream",
     "text": [
      "accuracy = 0.976400\n"
     ]
    }
   ],
   "source": [
    "acc = np.mean(yhat == yts)\n",
    "print(\"accuracy = %f\" % acc)"
   ]
  },
  {
   "cell_type": "markdown",
   "metadata": {},
   "source": [
    "You can also use the built-in metric function, `sparse_categorical_accuracy`.  The function returns one output for each sample, so you need to take the mean of the results."
   ]
  },
  {
   "cell_type": "code",
   "execution_count": 63,
   "metadata": {},
   "outputs": [
    {
     "name": "stdout",
     "output_type": "stream",
     "text": [
      "accuracy = 0.976400\n"
     ]
    }
   ],
   "source": [
    "from tensorflow.keras.metrics import sparse_categorical_accuracy\n",
    "acc = np.mean(sparse_categorical_accuracy(yts, yhat1))\n",
    "print(\"accuracy = %f\" % acc)"
   ]
  },
  {
   "cell_type": "code",
   "execution_count": null,
   "metadata": {},
   "outputs": [],
   "source": []
  },
  {
   "cell_type": "code",
   "execution_count": null,
   "metadata": {},
   "outputs": [],
   "source": []
  },
  {
   "cell_type": "code",
   "execution_count": null,
   "metadata": {},
   "outputs": [],
   "source": []
  }
 ],
 "metadata": {
  "anaconda-cloud": {},
  "kernelspec": {
   "display_name": "Python 3",
   "language": "python",
   "name": "python3"
  },
  "language_info": {
   "codemirror_mode": {
    "name": "ipython",
    "version": 3
   },
   "file_extension": ".py",
   "mimetype": "text/x-python",
   "name": "python",
   "nbconvert_exporter": "python",
   "pygments_lexer": "ipython3",
   "version": "3.8.3"
  }
 },
 "nbformat": 4,
 "nbformat_minor": 1
}
