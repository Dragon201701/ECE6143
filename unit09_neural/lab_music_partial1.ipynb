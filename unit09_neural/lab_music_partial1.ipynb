{
 "cells": [
  {
   "cell_type": "markdown",
   "metadata": {
    "id": "KS5mHR8zZQka"
   },
   "source": [
    "# Lab:  Neural Networks for Music Classification\n",
    "\n",
    "In addition to the concepts in the [MNIST neural network demo](./demo2_mnist_neural.ipynb), in this lab, you will learn to:\n",
    "* Load a file from a URL\n",
    "* Extract simple features from audio samples for machine learning tasks such as speech recognition and classification\n",
    "* Build a simple neural network for music classification using these features\n",
    "* Use a callback to store the loss and accuracy history in the training process\n",
    "* Optimize the learning rate of the neural network\n",
    "\n",
    "To illustrate the basic concepts, we will look at a relatively simple music classification problem.  Given a sample of music, we want to determine which instrument (e.g. trumpet, violin, piano) is playing.  This dataset was generously supplied by [Prof. Juan Bello](http://steinhardt.nyu.edu/faculty/Juan_Pablo_Bello) at NYU Stenihardt  and his former PhD student Eric Humphrey (now at Spotify).  They have a complete website dedicated to deep learning methods in music informatics:\n",
    "\n",
    "http://marl.smusic.nyu.edu/wordpress/projects/feature-learning-deep-architectures/deep-learning-python-tutorial/\n",
    "\n",
    "You can also check out Juan's <a href=\"http://www.nyu.edu/classes/bello/ACA.html\">course</a>.\n",
    "\n"
   ]
  },
  {
   "cell_type": "markdown",
   "metadata": {
    "id": "GxibG0xHZQkb"
   },
   "source": [
    "## Loading Tensorflow\n",
    "\n",
    "Before starting this lab, you will need to install [Tensorflow](https://www.tensorflow.org/install/).  If you are using [Google colaboratory](https://colab.research.google.com), Tensorflow is already installed.  Run the following command to ensure Tensorflow is installed."
   ]
  },
  {
   "cell_type": "code",
   "execution_count": 14,
   "metadata": {
    "id": "8pOWFq6aZQkc"
   },
   "outputs": [],
   "source": [
    "import tensorflow as tf"
   ]
  },
  {
   "cell_type": "markdown",
   "metadata": {
    "id": "Z5c4JA9nZQkf"
   },
   "source": [
    "Then, load the other packages."
   ]
  },
  {
   "cell_type": "code",
   "execution_count": 2,
   "metadata": {
    "id": "EymZWJS1ZQki"
   },
   "outputs": [],
   "source": [
    "import numpy as np\n",
    "import matplotlib\n",
    "import matplotlib.pyplot as plt"
   ]
  },
  {
   "cell_type": "markdown",
   "metadata": {
    "id": "8Xvd-FDAZQkl"
   },
   "source": [
    "## Audio Feature Extraction with Librosa\n",
    "\n",
    "The key to audio classification is to extract the correct features. In addition to `keras`, we will need the `librosa` package.  The `librosa` package in python has a rich set of methods extracting the features of audio samples commonly used in machine learning tasks such as speech recognition and sound classification. \n",
    "\n",
    "Installation instructions and complete documentation for the package are given on the [librosa main page](https://librosa.github.io/librosa/).  On most systems, you should be able to simply use:\n",
    "\n",
    "    pip install librosa\n",
    "    \n",
    "For Unix, you may need to load some additional packages:\n",
    "\n",
    "    sudo apt-get install build-essential\n",
    "    sudo apt-get install libxext-dev python-qt4 qt4-dev-tools\n",
    "    pip install librosa\n",
    "    \n",
    "After you have installed the package, try to import it."
   ]
  },
  {
   "cell_type": "code",
   "execution_count": 16,
   "metadata": {
    "id": "FL9LnZOPZQkm"
   },
   "outputs": [],
   "source": [
    "import librosa\n",
    "import librosa.display\n",
    "import librosa.feature"
   ]
  },
  {
   "cell_type": "markdown",
   "metadata": {
    "id": "bqLxlqMnZQkp"
   },
   "source": [
    "In this lab, we will use a set of music samples from the website:\n",
    "\n",
    "http://theremin.music.uiowa.edu\n",
    "\n",
    "This website has a great set of samples for audio processing.  Look on the web for how to use the `requests.get` and `file.write` commands to load the file at the URL provided into your working directory.\n",
    "\n",
    "You can play the audio sample by copying the file to your local machine and playing it on any media player.  If you listen to it you will hear a soprano saxaphone (with vibrato) playing four notes (C, C#, D, Eb)."
   ]
  },
  {
   "cell_type": "code",
   "execution_count": 17,
   "metadata": {
    "id": "4JGKjDvDZQkp"
   },
   "outputs": [],
   "source": [
    "import requests\n",
    "fn = \"SopSax.Vib.pp.C6Eb6.aiff\"\n",
    "url = \"http://theremin.music.uiowa.edu/sound files/MIS/Woodwinds/sopranosaxophone/\"+fn\n",
    "\n",
    "# TODO:  Load the file from url and save it in a file under the name fn\n",
    "rsp = requests.get(url)\n",
    "with open(fn, 'wb') as file:\n",
    "  file.write(rsp.content)"
   ]
  },
  {
   "cell_type": "markdown",
   "metadata": {
    "id": "RcCZX-ULZQks"
   },
   "source": [
    "Next, use `librosa` command `librosa.load` to read the audio file with filename `fn` and get the samples `y` and sample rate `sr`."
   ]
  },
  {
   "cell_type": "code",
   "execution_count": 18,
   "metadata": {
    "id": "1I_VeWqqZQkt"
   },
   "outputs": [],
   "source": [
    "# TODO\n",
    "y, sr = librosa.load(fn)"
   ]
  },
  {
   "cell_type": "markdown",
   "metadata": {
    "id": "-H27Bf9AZQkw"
   },
   "source": [
    "Extracting features from audio files is an entire subject on its own right.  A commonly used set of features are called the Mel Frequency Cepstral Coefficients (MFCCs).  These are derived from the so-called mel spectrogram which is something like a regular spectrogram, but the power and frequency are represented in log scale, which more naturally aligns with human perceptual processing.  You can run the code below to display the mel spectrogram from the audio sample.\n",
    "\n",
    "You can easily see the four notes played in the audio track.  You also see the 'harmonics' of each notes, which are other tones at integer multiples of the fundamental frequency of each note."
   ]
  },
  {
   "cell_type": "code",
   "execution_count": 19,
   "metadata": {
    "colab": {
     "base_uri": "https://localhost:8080/",
     "height": 297
    },
    "id": "tmLT2UD1ZQky",
    "outputId": "e0add200-ac47-477d-895d-32bb47db0c1b"
   },
   "outputs": [
    {
     "data": {
      "image/png": "[encoded data removed]",
      "text/plain": [
       "<Figure size 432x288 with 2 Axes>"
      ]
     },
     "metadata": {
      "needs_background": "light",
      "tags": []
     },
     "output_type": "display_data"
    }
   ],
   "source": [
    "S = librosa.feature.melspectrogram(y=y, sr=sr, n_mels=128, fmax=8000)\n",
    "librosa.display.specshow(librosa.amplitude_to_db(S),\n",
    "                         y_axis='mel', fmax=8000, x_axis='time')\n",
    "plt.colorbar(format='%+2.0f dB')\n",
    "plt.title('Mel spectrogram')\n",
    "plt.tight_layout()"
   ]
  },
  {
   "cell_type": "markdown",
   "metadata": {
    "id": "GcvLAQpHZQk3"
   },
   "source": [
    "## Downloading the Data\n",
    "\n",
    "Using the MFCC features described above, Eric Humphrey and Juan Bellow have created a complete data set that can used for instrument classification.  Essentially, they collected a number of data files from the website above.  For each audio file, the segmented the track into notes and then extracted 120 MFCCs for each note.  The goal is to recognize the instrument from the 120 MFCCs.  The process of feature extraction is quite involved.  So, we will just use their processed data provided at:\n",
    "\n",
    "https://github.com/marl/dl4mir-tutorial/blob/master/README.md\n",
    "\n",
    "Note the password.  Load the four files into some directory, say  `instrument_dataset`.  Then, load them with the commands."
   ]
  },
  {
   "cell_type": "code",
   "execution_count": 3,
   "metadata": {
    "id": "6meZf3BiZQk4"
   },
   "outputs": [
    {
     "ename": "FileNotFoundError",
     "evalue": "[Errno 2] No such file or directory: 'instrument_dataset/uiowa_train_data.npy'",
     "output_type": "error",
     "traceback": [
      "\u001b[1;31m---------------------------------------------------------------------------\u001b[0m",
      "\u001b[1;31mFileNotFoundError\u001b[0m                         Traceback (most recent call last)",
      "\u001b[1;32m<ipython-input-3-8261d69f6af0>\u001b[0m in \u001b[0;36m<module>\u001b[1;34m\u001b[0m\n\u001b[0;32m      1\u001b[0m \u001b[0mdata_dir\u001b[0m \u001b[1;33m=\u001b[0m \u001b[1;34m'instrument_dataset/'\u001b[0m\u001b[1;33m\u001b[0m\u001b[1;33m\u001b[0m\u001b[0m\n\u001b[1;32m----> 2\u001b[1;33m \u001b[0mXtr\u001b[0m \u001b[1;33m=\u001b[0m \u001b[0mnp\u001b[0m\u001b[1;33m.\u001b[0m\u001b[0mload\u001b[0m\u001b[1;33m(\u001b[0m\u001b[0mdata_dir\u001b[0m\u001b[1;33m+\u001b[0m\u001b[1;34m'uiowa_train_data.npy'\u001b[0m\u001b[1;33m)\u001b[0m\u001b[1;33m\u001b[0m\u001b[1;33m\u001b[0m\u001b[0m\n\u001b[0m\u001b[0;32m      3\u001b[0m \u001b[0mytr\u001b[0m \u001b[1;33m=\u001b[0m \u001b[0mnp\u001b[0m\u001b[1;33m.\u001b[0m\u001b[0mload\u001b[0m\u001b[1;33m(\u001b[0m\u001b[0mdata_dir\u001b[0m\u001b[1;33m+\u001b[0m\u001b[1;34m'uiowa_train_labels.npy'\u001b[0m\u001b[1;33m)\u001b[0m\u001b[1;33m\u001b[0m\u001b[1;33m\u001b[0m\u001b[0m\n\u001b[0;32m      4\u001b[0m \u001b[0mXts\u001b[0m \u001b[1;33m=\u001b[0m \u001b[0mnp\u001b[0m\u001b[1;33m.\u001b[0m\u001b[0mload\u001b[0m\u001b[1;33m(\u001b[0m\u001b[0mdata_dir\u001b[0m\u001b[1;33m+\u001b[0m\u001b[1;34m'uiowa_test_data.npy'\u001b[0m\u001b[1;33m)\u001b[0m\u001b[1;33m\u001b[0m\u001b[1;33m\u001b[0m\u001b[0m\n\u001b[0;32m      5\u001b[0m \u001b[0myts\u001b[0m \u001b[1;33m=\u001b[0m \u001b[0mnp\u001b[0m\u001b[1;33m.\u001b[0m\u001b[0mload\u001b[0m\u001b[1;33m(\u001b[0m\u001b[0mdata_dir\u001b[0m\u001b[1;33m+\u001b[0m\u001b[1;34m'uiowa_test_labels.npy'\u001b[0m\u001b[1;33m)\u001b[0m\u001b[1;33m\u001b[0m\u001b[1;33m\u001b[0m\u001b[0m\n",
      "\u001b[1;32mD:\\anaconda3\\lib\\site-packages\\numpy\\lib\\npyio.py\u001b[0m in \u001b[0;36mload\u001b[1;34m(file, mmap_mode, allow_pickle, fix_imports, encoding)\u001b[0m\n\u001b[0;32m    414\u001b[0m             \u001b[0mown_fid\u001b[0m \u001b[1;33m=\u001b[0m \u001b[1;32mFalse\u001b[0m\u001b[1;33m\u001b[0m\u001b[1;33m\u001b[0m\u001b[0m\n\u001b[0;32m    415\u001b[0m         \u001b[1;32melse\u001b[0m\u001b[1;33m:\u001b[0m\u001b[1;33m\u001b[0m\u001b[1;33m\u001b[0m\u001b[0m\n\u001b[1;32m--> 416\u001b[1;33m             \u001b[0mfid\u001b[0m \u001b[1;33m=\u001b[0m \u001b[0mstack\u001b[0m\u001b[1;33m.\u001b[0m\u001b[0menter_context\u001b[0m\u001b[1;33m(\u001b[0m\u001b[0mopen\u001b[0m\u001b[1;33m(\u001b[0m\u001b[0mos_fspath\u001b[0m\u001b[1;33m(\u001b[0m\u001b[0mfile\u001b[0m\u001b[1;33m)\u001b[0m\u001b[1;33m,\u001b[0m \u001b[1;34m\"rb\"\u001b[0m\u001b[1;33m)\u001b[0m\u001b[1;33m)\u001b[0m\u001b[1;33m\u001b[0m\u001b[1;33m\u001b[0m\u001b[0m\n\u001b[0m\u001b[0;32m    417\u001b[0m             \u001b[0mown_fid\u001b[0m \u001b[1;33m=\u001b[0m \u001b[1;32mTrue\u001b[0m\u001b[1;33m\u001b[0m\u001b[1;33m\u001b[0m\u001b[0m\n\u001b[0;32m    418\u001b[0m \u001b[1;33m\u001b[0m\u001b[0m\n",
      "\u001b[1;31mFileNotFoundError\u001b[0m: [Errno 2] No such file or directory: 'instrument_dataset/uiowa_train_data.npy'"
     ]
    }
   ],
   "source": [
    "data_dir = 'instrument_dataset/'\n",
    "Xtr = np.load(data_dir+'uiowa_train_data.npy')\n",
    "ytr = np.load(data_dir+'uiowa_train_labels.npy')\n",
    "Xts = np.load(data_dir+'uiowa_test_data.npy')\n",
    "yts = np.load(data_dir+'uiowa_test_labels.npy')"
   ]
  },
  {
   "cell_type": "markdown",
   "metadata": {
    "id": "0tySXFwmZQk6"
   },
   "source": [
    "Looking at the data files:\n",
    "* What are the number of training and test samples?\n",
    "* What is the number of features for each sample?\n",
    "* How many classes (i.e. instruments) are there per class?\n"
   ]
  },
  {
   "cell_type": "code",
   "execution_count": 45,
   "metadata": {
    "colab": {
     "base_uri": "https://localhost:8080/"
    },
    "id": "sUgLx1q0ZQk7",
    "outputId": "c70dd589-9844-43e2-9bc9-78cb2a40a423"
   },
   "outputs": [
    {
     "name": "stdout",
     "output_type": "stream",
     "text": [
      "number of training samples = 66247\n",
      "number of test samples = 14904\n",
      "number of features = 120\n",
      "number of instruments = 10\n"
     ]
    }
   ],
   "source": [
    "# TODO\n",
    "ntr = Xtr.shape[0]\n",
    "nts = Xts.shape[0]\n",
    "nx = Xtr.shape[1]\n",
    "nis = len(set(ytr))\n",
    "print('number of training samples =', ntr)\n",
    "print('number of test samples =', nts)\n",
    "print('number of features =', nx)\n",
    "print('number of instruments =', nis)"
   ]
  },
  {
   "cell_type": "markdown",
   "metadata": {
    "id": "nJYVnsboZQk9"
   },
   "source": [
    "Before continuing, you must scale the training and test data, `Xtr` and `Xts`.  Compute the mean and std deviation of each feature in `Xtr` and create a new training data set, `Xtr_scale`, by subtracting the mean and dividing by the std deviation.  Also compute a scaled test data set, `Xts_scale` using the mean and std deviation learned from the training data set."
   ]
  },
  {
   "cell_type": "code",
   "execution_count": 39,
   "metadata": {
    "id": "iQBrD2FqZQk-"
   },
   "outputs": [],
   "source": [
    "from sklearn.preprocessing import StandardScaler\n",
    "\n",
    "# TODO Scale the training and test matrices\n",
    "scal = StandardScaler()\n",
    "Xtr_scale = scal.fit_transform(Xtr)\n",
    "Xts_scale = scal.transform(Xts)"
   ]
  },
  {
   "cell_type": "markdown",
   "metadata": {
    "collapsed": true,
    "id": "_xjIJN0CZQlB"
   },
   "source": [
    "## Building a Neural Network Classifier\n",
    "\n",
    "Following the example in [MNIST neural network demo](./mnist_neural.ipynb), clear the keras session.  Then, create a neural network `model` with:\n",
    "* `nh=256` hidden units\n",
    "* `sigmoid` activation\n",
    "* select the input and output shapes correctly\n",
    "* print the model summary"
   ]
  },
  {
   "cell_type": "code",
   "execution_count": 40,
   "metadata": {
    "id": "xDbO8IwvZQlC"
   },
   "outputs": [],
   "source": [
    "from tensorflow.keras.models import Model, Sequential\n",
    "from tensorflow.keras.layers import Dense, Activation\n",
    "import tensorflow.keras.backend as K\n"
   ]
  },
  {
   "cell_type": "code",
   "execution_count": 41,
   "metadata": {
    "id": "5d0hxnuWZQlG"
   },
   "outputs": [],
   "source": [
    "# TODO clear session\n",
    "K.clear_session()"
   ]
  },
  {
   "cell_type": "code",
   "execution_count": 46,
   "metadata": {
    "id": "uWDP-2ThZQlJ"
   },
   "outputs": [],
   "source": [
    "# TODO: construct the model\n",
    "nin = nx\n",
    "nh = 256\n",
    "nout = nis\n",
    "model = Sequential()\n",
    "model.add(Dense(units=nh, input_shape=(nx,), activation='sigmoid', name='hidden'))\n",
    "model.add(Dense(units=nout, activation='sigmoid', name='output'))"
   ]
  },
  {
   "cell_type": "code",
   "execution_count": 47,
   "metadata": {
    "colab": {
     "base_uri": "https://localhost:8080/"
    },
    "id": "G3l5rKowZQlM",
    "outputId": "38d7cdba-cfe5-4beb-ad5f-259a9a151e24"
   },
   "outputs": [
    {
     "name": "stdout",
     "output_type": "stream",
     "text": [
      "Model: \"sequential_2\"\n",
      "_________________________________________________________________\n",
      "Layer (type)                 Output Shape              Param #   \n",
      "=================================================================\n",
      "hidden (Dense)               (None, 256)               30976     \n",
      "_________________________________________________________________\n",
      "output (Dense)               (None, 10)                2570      \n",
      "=================================================================\n",
      "Total params: 33,546\n",
      "Trainable params: 33,546\n",
      "Non-trainable params: 0\n",
      "_________________________________________________________________\n"
     ]
    }
   ],
   "source": [
    "# TODO:  Print the model summary\n",
    "model.summary()"
   ]
  },
  {
   "cell_type": "markdown",
   "metadata": {
    "id": "1Tn17-BCZQlO"
   },
   "source": [
    "Create an optimizer and compile the model.  Select the appropriate loss function and metrics.  For the optimizer, use the Adam optimizer with a learning rate of 0.001"
   ]
  },
  {
   "cell_type": "code",
   "execution_count": 48,
   "metadata": {
    "id": "oP27ovGsZQlP",
    "scrolled": true
   },
   "outputs": [],
   "source": [
    "from tensorflow.keras import optimizers\n",
    "# TODO\n",
    "opt = optimizers.Adam(lr=0.001)\n",
    "model.compile(optimizer=opt, loss='sparse_categorical_crossentropy', metrics=['accuracy'])"
   ]
  },
  {
   "cell_type": "markdown",
   "metadata": {
    "id": "CtnP6f8VZQlR"
   },
   "source": [
    "Fit the model for 10 epochs using the scaled data for both the training and validation.  Use the `validation_data` option to pass the test data.  Also, pass the callback class create above.  Use a batch size of 100.  Your final accuracy should be >99%."
   ]
  },
  {
   "cell_type": "code",
   "execution_count": 49,
   "metadata": {
    "colab": {
     "base_uri": "https://localhost:8080/"
    },
    "id": "12n9q7hfZQlS",
    "outputId": "990080c9-4004-4b9e-b6f0-6113ed9e9970",
    "scrolled": true
   },
   "outputs": [
    {
     "name": "stdout",
     "output_type": "stream",
     "text": [
      "Epoch 1/10\n",
      "663/663 [==============================] - 2s 3ms/step - loss: 0.3694 - accuracy: 0.9057 - val_loss: 0.1645 - val_accuracy: 0.9567\n",
      "Epoch 2/10\n",
      "663/663 [==============================] - 1s 2ms/step - loss: 0.0920 - accuracy: 0.9781 - val_loss: 0.0794 - val_accuracy: 0.9809\n",
      "Epoch 3/10\n",
      "663/663 [==============================] - 2s 2ms/step - loss: 0.0551 - accuracy: 0.9870 - val_loss: 0.0587 - val_accuracy: 0.9857\n",
      "Epoch 4/10\n",
      "663/663 [==============================] - 1s 2ms/step - loss: 0.0394 - accuracy: 0.9902 - val_loss: 0.0488 - val_accuracy: 0.9873\n",
      "Epoch 5/10\n",
      "663/663 [==============================] - 2s 2ms/step - loss: 0.0299 - accuracy: 0.9926 - val_loss: 0.0397 - val_accuracy: 0.9895\n",
      "Epoch 6/10\n",
      "663/663 [==============================] - 1s 2ms/step - loss: 0.0237 - accuracy: 0.9938 - val_loss: 0.0304 - val_accuracy: 0.9913\n",
      "Epoch 7/10\n",
      "663/663 [==============================] - 1s 2ms/step - loss: 0.0193 - accuracy: 0.9948 - val_loss: 0.0307 - val_accuracy: 0.9909\n",
      "Epoch 8/10\n",
      "663/663 [==============================] - 2s 2ms/step - loss: 0.0167 - accuracy: 0.9956 - val_loss: 0.0261 - val_accuracy: 0.9921\n",
      "Epoch 9/10\n",
      "663/663 [==============================] - 1s 2ms/step - loss: 0.0141 - accuracy: 0.9963 - val_loss: 0.0311 - val_accuracy: 0.9897\n",
      "Epoch 10/10\n",
      "663/663 [==============================] - 1s 2ms/step - loss: 0.0119 - accuracy: 0.9972 - val_loss: 0.0208 - val_accuracy: 0.9931\n"
     ]
    }
   ],
   "source": [
    "# TODO\n",
    "hist = model.fit(Xtr_scale, ytr, epochs=10, batch_size=100, validation_data=(Xts_scale,yts))"
   ]
  },
  {
   "cell_type": "markdown",
   "metadata": {
    "id": "7rmC-Pr_ZQlW"
   },
   "source": [
    "Plot the validation accuracy saved in `hist.history` dictionary. This gives one accuracy value per epoch.  You should see that the validation accuracy saturates at a little higher than 99%.  After that it \"bounces around\" due to the noise in the stochastic gradient descent."
   ]
  },
  {
   "cell_type": "code",
   "execution_count": 50,
   "metadata": {
    "colab": {
     "base_uri": "https://localhost:8080/",
     "height": 296
    },
    "id": "VmnpyFYxZQlX",
    "outputId": "ac01a51c-fb79-4704-87cb-71579d66f424"
   },
   "outputs": [
    {
     "data": {
      "text/plain": [
       "Text(0, 0.5, 'accuarcy')"
      ]
     },
     "execution_count": 50,
     "metadata": {
      "tags": []
     },
     "output_type": "execute_result"
    },
    {
     "data": {
      "image/png": "[encoded data removed]",
      "text/plain": [
       "<Figure size 432x288 with 1 Axes>"
      ]
     },
     "metadata": {
      "needs_background": "light",
      "tags": []
     },
     "output_type": "display_data"
    }
   ],
   "source": [
    "# TODO\n",
    "acc = hist.history['val_accuracy']\n",
    "plt.plot(acc)\n",
    "plt.grid()\n",
    "plt.xlabel('epochs')\n",
    "plt.ylabel('accuarcy')"
   ]
  },
  {
   "cell_type": "markdown",
   "metadata": {
    "id": "T9-bPLUNZQlZ"
   },
   "source": [
    "Plot the loss values saved in the `hist.history` dictionary.  You should see that the loss is steadily decreasing.  Use the `semilogy` plot."
   ]
  },
  {
   "cell_type": "code",
   "execution_count": 53,
   "metadata": {
    "colab": {
     "base_uri": "https://localhost:8080/",
     "height": 296
    },
    "id": "QHQ-vcwRZQla",
    "outputId": "b4a6ac58-2fe7-4c2f-f337-6d8c1ac98c8b"
   },
   "outputs": [
    {
     "data": {
      "text/plain": [
       "Text(0, 0.5, 'loss')"
      ]
     },
     "execution_count": 53,
     "metadata": {
      "tags": []
     },
     "output_type": "execute_result"
    },
    {
     "data": {
      "image/png": "[encoded data removed]",
      "text/plain": [
       "<Figure size 432x288 with 1 Axes>"
      ]
     },
     "metadata": {
      "needs_background": "light",
      "tags": []
     },
     "output_type": "display_data"
    }
   ],
   "source": [
    "# TODO\n",
    "loss = hist.history['loss']\n",
    "plt.semilogy(loss)\n",
    "plt.grid()\n",
    "plt.xlabel('epochs')\n",
    "plt.ylabel('loss')"
   ]
  },
  {
   "cell_type": "markdown",
   "metadata": {
    "id": "r4Jv5pbmZQlc"
   },
   "source": [
    "## Optimizing the Learning Rate\n",
    "\n",
    "One challenge in training neural networks is the selection of the learning rate.  Rerun the above code, trying four learning rates as shown in the vector `rates`.  For each learning rate:\n",
    "* clear the session\n",
    "* construct the network\n",
    "* select the optimizer.  Use the Adam optimizer with the appropriate learrning rate.\n",
    "* train the model for 20 epochs\n",
    "* save the accuracy and losses"
   ]
  },
  {
   "cell_type": "code",
   "execution_count": 56,
   "metadata": {
    "colab": {
     "base_uri": "https://localhost:8080/"
    },
    "id": "W5Dg_ApcZQld",
    "outputId": "b84c2018-9bb6-4101-8b99-98219eeb4e1e"
   },
   "outputs": [
    {
     "name": "stdout",
     "output_type": "stream",
     "text": [
      "Epoch 1/20\n",
      "663/663 [==============================] - 2s 2ms/step - loss: 0.0104 - accuracy: 0.9969 - val_loss: 0.0622 - val_accuracy: 0.9860\n",
      "Epoch 2/20\n",
      "663/663 [==============================] - 2s 2ms/step - loss: 0.0090 - accuracy: 0.9971 - val_loss: 0.0527 - val_accuracy: 0.9873\n",
      "Epoch 3/20\n",
      "663/663 [==============================] - 2s 2ms/step - loss: 0.0095 - accuracy: 0.9973 - val_loss: 0.0566 - val_accuracy: 0.9873\n",
      "Epoch 4/20\n",
      "663/663 [==============================] - 2s 2ms/step - loss: 0.0094 - accuracy: 0.9971 - val_loss: 0.0398 - val_accuracy: 0.9901\n",
      "Epoch 5/20\n",
      "663/663 [==============================] - 2s 2ms/step - loss: 0.0103 - accuracy: 0.9972 - val_loss: 0.1179 - val_accuracy: 0.9723\n",
      "Epoch 6/20\n",
      "663/663 [==============================] - 2s 2ms/step - loss: 0.0082 - accuracy: 0.9973 - val_loss: 0.0580 - val_accuracy: 0.9858\n",
      "Epoch 7/20\n",
      "663/663 [==============================] - 2s 2ms/step - loss: 0.0072 - accuracy: 0.9979 - val_loss: 0.0382 - val_accuracy: 0.9885\n",
      "Epoch 8/20\n",
      "663/663 [==============================] - 2s 2ms/step - loss: 0.0085 - accuracy: 0.9976 - val_loss: 0.0614 - val_accuracy: 0.9871\n",
      "Epoch 9/20\n",
      "663/663 [==============================] - 2s 2ms/step - loss: 0.0072 - accuracy: 0.9979 - val_loss: 0.0721 - val_accuracy: 0.9847\n",
      "Epoch 10/20\n",
      "663/663 [==============================] - 2s 2ms/step - loss: 0.0087 - accuracy: 0.9975 - val_loss: 0.0462 - val_accuracy: 0.9888\n",
      "Epoch 11/20\n",
      "663/663 [==============================] - 2s 2ms/step - loss: 0.0086 - accuracy: 0.9978 - val_loss: 0.0427 - val_accuracy: 0.9895\n",
      "Epoch 12/20\n",
      "663/663 [==============================] - 2s 2ms/step - loss: 0.0087 - accuracy: 0.9976 - val_loss: 0.0475 - val_accuracy: 0.9903\n",
      "Epoch 13/20\n",
      "663/663 [==============================] - 2s 2ms/step - loss: 0.0103 - accuracy: 0.9973 - val_loss: 0.0508 - val_accuracy: 0.9871\n",
      "Epoch 14/20\n",
      "663/663 [==============================] - 2s 2ms/step - loss: 0.0055 - accuracy: 0.9985 - val_loss: 0.0498 - val_accuracy: 0.9873\n",
      "Epoch 15/20\n",
      "663/663 [==============================] - 2s 2ms/step - loss: 0.0059 - accuracy: 0.9983 - val_loss: 0.0398 - val_accuracy: 0.9903\n",
      "Epoch 16/20\n",
      "663/663 [==============================] - 2s 2ms/step - loss: 0.0068 - accuracy: 0.9978 - val_loss: 0.0710 - val_accuracy: 0.9854\n",
      "Epoch 17/20\n",
      "663/663 [==============================] - 2s 2ms/step - loss: 0.0061 - accuracy: 0.9982 - val_loss: 0.0417 - val_accuracy: 0.9890\n",
      "Epoch 18/20\n",
      "663/663 [==============================] - 2s 2ms/step - loss: 0.0058 - accuracy: 0.9983 - val_loss: 0.0754 - val_accuracy: 0.9868\n",
      "Epoch 19/20\n",
      "663/663 [==============================] - 2s 2ms/step - loss: 0.0063 - accuracy: 0.9982 - val_loss: 0.0402 - val_accuracy: 0.9902\n",
      "Epoch 20/20\n",
      "663/663 [==============================] - 2s 2ms/step - loss: 0.0083 - accuracy: 0.9978 - val_loss: 0.0355 - val_accuracy: 0.9928\n",
      "Epoch 1/20\n",
      "663/663 [==============================] - 2s 3ms/step - loss: 0.0014 - accuracy: 0.9995 - val_loss: 0.0363 - val_accuracy: 0.9924\n",
      "Epoch 2/20\n",
      "663/663 [==============================] - 2s 2ms/step - loss: 7.7859e-04 - accuracy: 0.9997 - val_loss: 0.0359 - val_accuracy: 0.9925\n",
      "Epoch 3/20\n",
      "663/663 [==============================] - 2s 2ms/step - loss: 4.9396e-04 - accuracy: 0.9998 - val_loss: 0.0363 - val_accuracy: 0.9924\n",
      "Epoch 4/20\n",
      "663/663 [==============================] - 2s 2ms/step - loss: 4.1135e-04 - accuracy: 0.9999 - val_loss: 0.0378 - val_accuracy: 0.9924\n",
      "Epoch 5/20\n",
      "663/663 [==============================] - 2s 2ms/step - loss: 3.9266e-04 - accuracy: 0.9999 - val_loss: 0.0350 - val_accuracy: 0.9932\n",
      "Epoch 6/20\n",
      "663/663 [==============================] - 2s 2ms/step - loss: 2.4461e-04 - accuracy: 0.9999 - val_loss: 0.0361 - val_accuracy: 0.9926\n",
      "Epoch 7/20\n",
      "663/663 [==============================] - 2s 2ms/step - loss: 4.8192e-04 - accuracy: 0.9998 - val_loss: 0.0363 - val_accuracy: 0.9925\n",
      "Epoch 8/20\n",
      "663/663 [==============================] - 2s 2ms/step - loss: 3.4080e-04 - accuracy: 0.9998 - val_loss: 0.0348 - val_accuracy: 0.9932\n",
      "Epoch 9/20\n",
      "663/663 [==============================] - 2s 2ms/step - loss: 3.6850e-04 - accuracy: 0.9999 - val_loss: 0.0366 - val_accuracy: 0.9930\n",
      "Epoch 10/20\n",
      "663/663 [==============================] - 2s 2ms/step - loss: 3.2998e-04 - accuracy: 0.9999 - val_loss: 0.0333 - val_accuracy: 0.9928\n",
      "Epoch 11/20\n",
      "663/663 [==============================] - 2s 2ms/step - loss: 2.3366e-04 - accuracy: 0.9999 - val_loss: 0.0347 - val_accuracy: 0.9932\n",
      "Epoch 12/20\n",
      "663/663 [==============================] - 2s 2ms/step - loss: 1.3440e-04 - accuracy: 0.9999 - val_loss: 0.0347 - val_accuracy: 0.9931\n",
      "Epoch 13/20\n",
      "663/663 [==============================] - 2s 2ms/step - loss: 1.7856e-04 - accuracy: 0.9999 - val_loss: 0.0339 - val_accuracy: 0.9934\n",
      "Epoch 14/20\n",
      "663/663 [==============================] - 2s 2ms/step - loss: 1.1981e-04 - accuracy: 0.9999 - val_loss: 0.0342 - val_accuracy: 0.9934\n",
      "Epoch 15/20\n",
      "663/663 [==============================] - 2s 2ms/step - loss: 2.3549e-04 - accuracy: 0.9999 - val_loss: 0.0348 - val_accuracy: 0.9931\n",
      "Epoch 16/20\n",
      "663/663 [==============================] - 2s 2ms/step - loss: 1.6194e-04 - accuracy: 0.9999 - val_loss: 0.0374 - val_accuracy: 0.9929\n",
      "Epoch 17/20\n",
      "663/663 [==============================] - 2s 2ms/step - loss: 1.9364e-04 - accuracy: 0.9999 - val_loss: 0.0369 - val_accuracy: 0.9928\n",
      "Epoch 18/20\n",
      "663/663 [==============================] - 2s 2ms/step - loss: 1.1410e-04 - accuracy: 0.9999 - val_loss: 0.0374 - val_accuracy: 0.9929\n",
      "Epoch 19/20\n",
      "663/663 [==============================] - 2s 2ms/step - loss: 3.0776e-04 - accuracy: 0.9999 - val_loss: 0.0371 - val_accuracy: 0.9926\n",
      "Epoch 20/20\n",
      "663/663 [==============================] - 2s 2ms/step - loss: 1.3174e-04 - accuracy: 1.0000 - val_loss: 0.0384 - val_accuracy: 0.9919\n",
      "Epoch 1/20\n",
      "663/663 [==============================] - 2s 2ms/step - loss: 5.6713e-05 - accuracy: 1.0000 - val_loss: 0.0373 - val_accuracy: 0.9926\n",
      "Epoch 2/20\n",
      "663/663 [==============================] - 2s 2ms/step - loss: 5.0964e-05 - accuracy: 1.0000 - val_loss: 0.0375 - val_accuracy: 0.9922\n",
      "Epoch 3/20\n",
      "663/663 [==============================] - 2s 2ms/step - loss: 5.0021e-05 - accuracy: 1.0000 - val_loss: 0.0372 - val_accuracy: 0.9921\n",
      "Epoch 4/20\n",
      "663/663 [==============================] - 2s 2ms/step - loss: 4.9624e-05 - accuracy: 1.0000 - val_loss: 0.0375 - val_accuracy: 0.9925\n",
      "Epoch 5/20\n",
      "663/663 [==============================] - 2s 2ms/step - loss: 4.9371e-05 - accuracy: 1.0000 - val_loss: 0.0373 - val_accuracy: 0.9924\n",
      "Epoch 6/20\n",
      "663/663 [==============================] - 2s 2ms/step - loss: 4.7131e-05 - accuracy: 1.0000 - val_loss: 0.0371 - val_accuracy: 0.9928\n",
      "Epoch 7/20\n",
      "663/663 [==============================] - 2s 2ms/step - loss: 4.7562e-05 - accuracy: 1.0000 - val_loss: 0.0368 - val_accuracy: 0.9927\n",
      "Epoch 8/20\n",
      "663/663 [==============================] - 2s 2ms/step - loss: 4.4909e-05 - accuracy: 1.0000 - val_loss: 0.0372 - val_accuracy: 0.9927\n",
      "Epoch 9/20\n",
      "663/663 [==============================] - 2s 2ms/step - loss: 4.8865e-05 - accuracy: 1.0000 - val_loss: 0.0373 - val_accuracy: 0.9924\n",
      "Epoch 10/20\n",
      "663/663 [==============================] - 2s 2ms/step - loss: 4.4534e-05 - accuracy: 1.0000 - val_loss: 0.0370 - val_accuracy: 0.9926\n",
      "Epoch 11/20\n",
      "663/663 [==============================] - 2s 2ms/step - loss: 4.3363e-05 - accuracy: 1.0000 - val_loss: 0.0374 - val_accuracy: 0.9926\n",
      "Epoch 12/20\n",
      "663/663 [==============================] - 2s 2ms/step - loss: 4.4440e-05 - accuracy: 1.0000 - val_loss: 0.0370 - val_accuracy: 0.9926\n",
      "Epoch 13/20\n",
      "663/663 [==============================] - 2s 2ms/step - loss: 4.3246e-05 - accuracy: 1.0000 - val_loss: 0.0372 - val_accuracy: 0.9926\n",
      "Epoch 14/20\n",
      "663/663 [==============================] - 2s 2ms/step - loss: 4.3879e-05 - accuracy: 1.0000 - val_loss: 0.0375 - val_accuracy: 0.9925\n",
      "Epoch 15/20\n",
      "663/663 [==============================] - 2s 2ms/step - loss: 4.2287e-05 - accuracy: 1.0000 - val_loss: 0.0377 - val_accuracy: 0.9923\n",
      "Epoch 16/20\n",
      "663/663 [==============================] - 2s 2ms/step - loss: 4.2508e-05 - accuracy: 1.0000 - val_loss: 0.0374 - val_accuracy: 0.9925\n",
      "Epoch 17/20\n",
      "663/663 [==============================] - 2s 2ms/step - loss: 4.0888e-05 - accuracy: 1.0000 - val_loss: 0.0371 - val_accuracy: 0.9925\n",
      "Epoch 18/20\n",
      "663/663 [==============================] - 2s 2ms/step - loss: 3.9625e-05 - accuracy: 1.0000 - val_loss: 0.0372 - val_accuracy: 0.9926\n",
      "Epoch 19/20\n",
      "663/663 [==============================] - 2s 2ms/step - loss: 4.2709e-05 - accuracy: 1.0000 - val_loss: 0.0375 - val_accuracy: 0.9924\n",
      "Epoch 20/20\n",
      "663/663 [==============================] - 2s 2ms/step - loss: 4.0263e-05 - accuracy: 1.0000 - val_loss: 0.0377 - val_accuracy: 0.9924\n"
     ]
    }
   ],
   "source": [
    "rates = [0.01,0.001,0.0001]\n",
    "batch_size = 100\n",
    "acc_hist = []\n",
    "loss_hist = []\n",
    "\n",
    "# TODO\n",
    "for lr in rates:\n",
    "  K.clear_session()\n",
    "  opt = optimizers.Adam(lr=lr)\n",
    "  model.compile(optimizer=opt, loss='sparse_categorical_crossentropy', metrics=['accuracy'])\n",
    "  hist = model.fit(Xtr_scale, ytr, epochs=20, batch_size=100, validation_data=(Xts_scale,yts))\n",
    "  acc_hist.append(hist.history['val_accuracy'])\n",
    "  loss_hist.append(hist.history['loss'])"
   ]
  },
  {
   "cell_type": "markdown",
   "metadata": {
    "id": "M0CKkgMGZQlf"
   },
   "source": [
    "Plot the loss funciton vs. the epoch number for all three learning rates on one graph.  You should see that the lower learning rates are more stable, but converge slower."
   ]
  },
  {
   "cell_type": "code",
   "execution_count": 59,
   "metadata": {
    "colab": {
     "base_uri": "https://localhost:8080/",
     "height": 296
    },
    "id": "T7HOzf7MZQlg",
    "outputId": "f806ab69-8d23-4a40-8c5f-61a1e520a58c"
   },
   "outputs": [
    {
     "data": {
      "text/plain": [
       "<matplotlib.legend.Legend at 0x7f24c5255b00>"
      ]
     },
     "execution_count": 59,
     "metadata": {
      "tags": []
     },
     "output_type": "execute_result"
    },
    {
     "data": {
      "image/png": "[encoded data removed]",
      "text/plain": [
       "<Figure size 432x288 with 1 Axes>"
      ]
     },
     "metadata": {
      "needs_background": "light",
      "tags": []
     },
     "output_type": "display_data"
    }
   ],
   "source": [
    "# TODO\n",
    "plt.semilogy(loss_hist[0])\n",
    "plt.semilogy(loss_hist[1])\n",
    "plt.semilogy(loss_hist[2])\n",
    "plt.grid()\n",
    "plt.xlabel('epochs')\n",
    "plt.ylabel('loss')\n",
    "plt.legend(['lr = 0.01', 'lr = 0.001', 'lr = 0.0001'])"
   ]
  },
  {
   "cell_type": "code",
   "execution_count": 61,
   "metadata": {
    "colab": {
     "base_uri": "https://localhost:8080/",
     "height": 296
    },
    "id": "zFXQCfkMZQlm",
    "outputId": "c7c09a6a-ffc8-4e41-8020-32df788a22d2"
   },
   "outputs": [
    {
     "data": {
      "text/plain": [
       "<matplotlib.legend.Legend at 0x7f24c5108908>"
      ]
     },
     "execution_count": 61,
     "metadata": {
      "tags": []
     },
     "output_type": "execute_result"
    },
    {
     "data": {
      "image/png": "[encoded data removed]",
      "text/plain": [
       "<Figure size 432x288 with 1 Axes>"
      ]
     },
     "metadata": {
      "needs_background": "light",
      "tags": []
     },
     "output_type": "display_data"
    }
   ],
   "source": [
    "plt.plot(acc_hist[0])\n",
    "plt.plot(acc_hist[1])\n",
    "plt.plot(acc_hist[2])\n",
    "plt.grid()\n",
    "plt.xlabel('epochs')\n",
    "plt.ylabel('accuracy')\n",
    "plt.legend(['lr = 0.01', 'lr = 0.001', 'lr = 0.0001'])"
   ]
  },
  {
   "cell_type": "code",
   "execution_count": null,
   "metadata": {
    "id": "iknrGV9bZQlp"
   },
   "outputs": [],
   "source": []
  }
 ],
 "metadata": {
  "anaconda-cloud": {},
  "colab": {
   "name": "“lab_music_partial.ipynb”的副本",
   "provenance": []
  },
  "kernelspec": {
   "display_name": "Python 3",
   "language": "python",
   "name": "python3"
  },
  "language_info": {
   "codemirror_mode": {
    "name": "ipython",
    "version": 3
   },
   "file_extension": ".py",
   "mimetype": "text/x-python",
   "name": "python",
   "nbconvert_exporter": "python",
   "pygments_lexer": "ipython3",
   "version": "3.7.6"
  }
 },
 "nbformat": 4,
 "nbformat_minor": 1
}
